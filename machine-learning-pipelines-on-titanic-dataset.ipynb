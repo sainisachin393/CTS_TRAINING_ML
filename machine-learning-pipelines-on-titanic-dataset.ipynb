{
 "cells": [
  {
   "cell_type": "code",
   "execution_count": 1,
   "id": "3f605003",
   "metadata": {
    "_cell_guid": "b1076dfc-b9ad-4769-8c92-a6c4dae69d19",
    "_uuid": "8f2839f25d086af736a60e9eeb907d3b93b6e0e5",
    "execution": {
     "iopub.execute_input": "2022-06-22T09:29:35.296823Z",
     "iopub.status.busy": "2022-06-22T09:29:35.295922Z",
     "iopub.status.idle": "2022-06-22T09:29:35.316032Z",
     "shell.execute_reply": "2022-06-22T09:29:35.314716Z"
    },
    "papermill": {
     "duration": 0.044194,
     "end_time": "2022-06-22T09:29:35.319884",
     "exception": false,
     "start_time": "2022-06-22T09:29:35.275690",
     "status": "completed"
    },
    "tags": []
   },
   "outputs": [
    {
     "name": "stdout",
     "output_type": "stream",
     "text": [
      "/kaggle/input/titanic/train.csv\n",
      "/kaggle/input/titanic/test.csv\n",
      "/kaggle/input/titanic/gender_submission.csv\n"
     ]
    }
   ],
   "source": [
    "# This Python 3 environment comes with many helpful analytics libraries installed\n",
    "# It is defined by the kaggle/python Docker image: https://github.com/kaggle/docker-python\n",
    "# For example, here's several helpful packages to load\n",
    "\n",
    "import numpy as np # linear algebra\n",
    "import pandas as pd # data processing, CSV file I/O (e.g. pd.read_csv)\n",
    "\n",
    "# Input data files are available in the read-only \"../input/\" directory\n",
    "# For example, running this (by clicking run or pressing Shift+Enter) will list all files under the input directory\n",
    "\n",
    "import os\n",
    "for dirname, _, filenames in os.walk('/kaggle/input'):\n",
    "    for filename in filenames:\n",
    "        print(os.path.join(dirname, filename))\n",
    "\n",
    "# You can write up to 20GB to the current directory (/kaggle/working/) that gets preserved as output when you create a version using \"Save & Run All\" \n",
    "# You can also write temporary files to /kaggle/temp/, but they won't be saved outside of the current session"
   ]
  },
  {
   "cell_type": "code",
   "execution_count": 2,
   "id": "45945d89",
   "metadata": {
    "execution": {
     "iopub.execute_input": "2022-06-22T09:29:35.355518Z",
     "iopub.status.busy": "2022-06-22T09:29:35.354487Z",
     "iopub.status.idle": "2022-06-22T09:29:36.864310Z",
     "shell.execute_reply": "2022-06-22T09:29:36.863090Z"
    },
    "papermill": {
     "duration": 1.530562,
     "end_time": "2022-06-22T09:29:36.867172",
     "exception": false,
     "start_time": "2022-06-22T09:29:35.336610",
     "status": "completed"
    },
    "tags": []
   },
   "outputs": [],
   "source": [
    "# import librarys\n",
    "\n",
    "from sklearn.model_selection import train_test_split\n",
    "from sklearn.impute import SimpleImputer\n",
    "from sklearn.preprocessing import OneHotEncoder\n",
    "from sklearn.preprocessing import MinMaxScaler\n",
    "from sklearn.tree import DecisionTreeClassifier"
   ]
  },
  {
   "cell_type": "markdown",
   "id": "061b4deb",
   "metadata": {
    "papermill": {
     "duration": 0.017059,
     "end_time": "2022-06-22T09:29:36.900394",
     "exception": false,
     "start_time": "2022-06-22T09:29:36.883335",
     "status": "completed"
    },
    "tags": []
   },
   "source": [
    "# Without Pipelines"
   ]
  },
  {
   "cell_type": "code",
   "execution_count": 3,
   "id": "4e586406",
   "metadata": {
    "execution": {
     "iopub.execute_input": "2022-06-22T09:29:36.933444Z",
     "iopub.status.busy": "2022-06-22T09:29:36.932656Z",
     "iopub.status.idle": "2022-06-22T09:29:36.956331Z",
     "shell.execute_reply": "2022-06-22T09:29:36.955406Z"
    },
    "papermill": {
     "duration": 0.043226,
     "end_time": "2022-06-22T09:29:36.958982",
     "exception": false,
     "start_time": "2022-06-22T09:29:36.915756",
     "status": "completed"
    },
    "tags": []
   },
   "outputs": [],
   "source": [
    "df = pd.read_csv('/kaggle/input/titanic/train.csv')"
   ]
  },
  {
   "cell_type": "code",
   "execution_count": 4,
   "id": "290803a3",
   "metadata": {
    "execution": {
     "iopub.execute_input": "2022-06-22T09:29:36.991980Z",
     "iopub.status.busy": "2022-06-22T09:29:36.991180Z",
     "iopub.status.idle": "2022-06-22T09:29:37.019859Z",
     "shell.execute_reply": "2022-06-22T09:29:37.018525Z"
    },
    "papermill": {
     "duration": 0.048324,
     "end_time": "2022-06-22T09:29:37.022780",
     "exception": false,
     "start_time": "2022-06-22T09:29:36.974456",
     "status": "completed"
    },
    "tags": []
   },
   "outputs": [
    {
     "data": {
      "text/html": [
       "<div>\n",
       "<style scoped>\n",
       "    .dataframe tbody tr th:only-of-type {\n",
       "        vertical-align: middle;\n",
       "    }\n",
       "\n",
       "    .dataframe tbody tr th {\n",
       "        vertical-align: top;\n",
       "    }\n",
       "\n",
       "    .dataframe thead th {\n",
       "        text-align: right;\n",
       "    }\n",
       "</style>\n",
       "<table border=\"1\" class=\"dataframe\">\n",
       "  <thead>\n",
       "    <tr style=\"text-align: right;\">\n",
       "      <th></th>\n",
       "      <th>PassengerId</th>\n",
       "      <th>Survived</th>\n",
       "      <th>Pclass</th>\n",
       "      <th>Name</th>\n",
       "      <th>Sex</th>\n",
       "      <th>Age</th>\n",
       "      <th>SibSp</th>\n",
       "      <th>Parch</th>\n",
       "      <th>Ticket</th>\n",
       "      <th>Fare</th>\n",
       "      <th>Cabin</th>\n",
       "      <th>Embarked</th>\n",
       "    </tr>\n",
       "  </thead>\n",
       "  <tbody>\n",
       "    <tr>\n",
       "      <th>0</th>\n",
       "      <td>1</td>\n",
       "      <td>0</td>\n",
       "      <td>3</td>\n",
       "      <td>Braund, Mr. Owen Harris</td>\n",
       "      <td>male</td>\n",
       "      <td>22.0</td>\n",
       "      <td>1</td>\n",
       "      <td>0</td>\n",
       "      <td>A/5 21171</td>\n",
       "      <td>7.2500</td>\n",
       "      <td>NaN</td>\n",
       "      <td>S</td>\n",
       "    </tr>\n",
       "    <tr>\n",
       "      <th>1</th>\n",
       "      <td>2</td>\n",
       "      <td>1</td>\n",
       "      <td>1</td>\n",
       "      <td>Cumings, Mrs. John Bradley (Florence Briggs Th...</td>\n",
       "      <td>female</td>\n",
       "      <td>38.0</td>\n",
       "      <td>1</td>\n",
       "      <td>0</td>\n",
       "      <td>PC 17599</td>\n",
       "      <td>71.2833</td>\n",
       "      <td>C85</td>\n",
       "      <td>C</td>\n",
       "    </tr>\n",
       "    <tr>\n",
       "      <th>2</th>\n",
       "      <td>3</td>\n",
       "      <td>1</td>\n",
       "      <td>3</td>\n",
       "      <td>Heikkinen, Miss. Laina</td>\n",
       "      <td>female</td>\n",
       "      <td>26.0</td>\n",
       "      <td>0</td>\n",
       "      <td>0</td>\n",
       "      <td>STON/O2. 3101282</td>\n",
       "      <td>7.9250</td>\n",
       "      <td>NaN</td>\n",
       "      <td>S</td>\n",
       "    </tr>\n",
       "    <tr>\n",
       "      <th>3</th>\n",
       "      <td>4</td>\n",
       "      <td>1</td>\n",
       "      <td>1</td>\n",
       "      <td>Futrelle, Mrs. Jacques Heath (Lily May Peel)</td>\n",
       "      <td>female</td>\n",
       "      <td>35.0</td>\n",
       "      <td>1</td>\n",
       "      <td>0</td>\n",
       "      <td>113803</td>\n",
       "      <td>53.1000</td>\n",
       "      <td>C123</td>\n",
       "      <td>S</td>\n",
       "    </tr>\n",
       "    <tr>\n",
       "      <th>4</th>\n",
       "      <td>5</td>\n",
       "      <td>0</td>\n",
       "      <td>3</td>\n",
       "      <td>Allen, Mr. William Henry</td>\n",
       "      <td>male</td>\n",
       "      <td>35.0</td>\n",
       "      <td>0</td>\n",
       "      <td>0</td>\n",
       "      <td>373450</td>\n",
       "      <td>8.0500</td>\n",
       "      <td>NaN</td>\n",
       "      <td>S</td>\n",
       "    </tr>\n",
       "  </tbody>\n",
       "</table>\n",
       "</div>"
      ],
      "text/plain": [
       "   PassengerId  Survived  Pclass  \\\n",
       "0            1         0       3   \n",
       "1            2         1       1   \n",
       "2            3         1       3   \n",
       "3            4         1       1   \n",
       "4            5         0       3   \n",
       "\n",
       "                                                Name     Sex   Age  SibSp  \\\n",
       "0                            Braund, Mr. Owen Harris    male  22.0      1   \n",
       "1  Cumings, Mrs. John Bradley (Florence Briggs Th...  female  38.0      1   \n",
       "2                             Heikkinen, Miss. Laina  female  26.0      0   \n",
       "3       Futrelle, Mrs. Jacques Heath (Lily May Peel)  female  35.0      1   \n",
       "4                           Allen, Mr. William Henry    male  35.0      0   \n",
       "\n",
       "   Parch            Ticket     Fare Cabin Embarked  \n",
       "0      0         A/5 21171   7.2500   NaN        S  \n",
       "1      0          PC 17599  71.2833   C85        C  \n",
       "2      0  STON/O2. 3101282   7.9250   NaN        S  \n",
       "3      0            113803  53.1000  C123        S  \n",
       "4      0            373450   8.0500   NaN        S  "
      ]
     },
     "execution_count": 4,
     "metadata": {},
     "output_type": "execute_result"
    }
   ],
   "source": [
    "df.head()"
   ]
  },
  {
   "cell_type": "code",
   "execution_count": 5,
   "id": "22b2fa2a",
   "metadata": {
    "execution": {
     "iopub.execute_input": "2022-06-22T09:29:37.056184Z",
     "iopub.status.busy": "2022-06-22T09:29:37.055460Z",
     "iopub.status.idle": "2022-06-22T09:29:37.067706Z",
     "shell.execute_reply": "2022-06-22T09:29:37.066781Z"
    },
    "papermill": {
     "duration": 0.031598,
     "end_time": "2022-06-22T09:29:37.070109",
     "exception": false,
     "start_time": "2022-06-22T09:29:37.038511",
     "status": "completed"
    },
    "tags": []
   },
   "outputs": [],
   "source": [
    "# for learning we are remove some columns\n",
    "df.drop(columns=['PassengerId','Name','Ticket','Cabin'],inplace=True)"
   ]
  },
  {
   "cell_type": "code",
   "execution_count": 6,
   "id": "2963060f",
   "metadata": {
    "execution": {
     "iopub.execute_input": "2022-06-22T09:29:37.104323Z",
     "iopub.status.busy": "2022-06-22T09:29:37.103591Z",
     "iopub.status.idle": "2022-06-22T09:29:37.117695Z",
     "shell.execute_reply": "2022-06-22T09:29:37.116546Z"
    },
    "papermill": {
     "duration": 0.033508,
     "end_time": "2022-06-22T09:29:37.119985",
     "exception": false,
     "start_time": "2022-06-22T09:29:37.086477",
     "status": "completed"
    },
    "tags": []
   },
   "outputs": [
    {
     "data": {
      "text/html": [
       "<div>\n",
       "<style scoped>\n",
       "    .dataframe tbody tr th:only-of-type {\n",
       "        vertical-align: middle;\n",
       "    }\n",
       "\n",
       "    .dataframe tbody tr th {\n",
       "        vertical-align: top;\n",
       "    }\n",
       "\n",
       "    .dataframe thead th {\n",
       "        text-align: right;\n",
       "    }\n",
       "</style>\n",
       "<table border=\"1\" class=\"dataframe\">\n",
       "  <thead>\n",
       "    <tr style=\"text-align: right;\">\n",
       "      <th></th>\n",
       "      <th>Survived</th>\n",
       "      <th>Pclass</th>\n",
       "      <th>Sex</th>\n",
       "      <th>Age</th>\n",
       "      <th>SibSp</th>\n",
       "      <th>Parch</th>\n",
       "      <th>Fare</th>\n",
       "      <th>Embarked</th>\n",
       "    </tr>\n",
       "  </thead>\n",
       "  <tbody>\n",
       "    <tr>\n",
       "      <th>0</th>\n",
       "      <td>0</td>\n",
       "      <td>3</td>\n",
       "      <td>male</td>\n",
       "      <td>22.0</td>\n",
       "      <td>1</td>\n",
       "      <td>0</td>\n",
       "      <td>7.2500</td>\n",
       "      <td>S</td>\n",
       "    </tr>\n",
       "    <tr>\n",
       "      <th>1</th>\n",
       "      <td>1</td>\n",
       "      <td>1</td>\n",
       "      <td>female</td>\n",
       "      <td>38.0</td>\n",
       "      <td>1</td>\n",
       "      <td>0</td>\n",
       "      <td>71.2833</td>\n",
       "      <td>C</td>\n",
       "    </tr>\n",
       "    <tr>\n",
       "      <th>2</th>\n",
       "      <td>1</td>\n",
       "      <td>3</td>\n",
       "      <td>female</td>\n",
       "      <td>26.0</td>\n",
       "      <td>0</td>\n",
       "      <td>0</td>\n",
       "      <td>7.9250</td>\n",
       "      <td>S</td>\n",
       "    </tr>\n",
       "    <tr>\n",
       "      <th>3</th>\n",
       "      <td>1</td>\n",
       "      <td>1</td>\n",
       "      <td>female</td>\n",
       "      <td>35.0</td>\n",
       "      <td>1</td>\n",
       "      <td>0</td>\n",
       "      <td>53.1000</td>\n",
       "      <td>S</td>\n",
       "    </tr>\n",
       "    <tr>\n",
       "      <th>4</th>\n",
       "      <td>0</td>\n",
       "      <td>3</td>\n",
       "      <td>male</td>\n",
       "      <td>35.0</td>\n",
       "      <td>0</td>\n",
       "      <td>0</td>\n",
       "      <td>8.0500</td>\n",
       "      <td>S</td>\n",
       "    </tr>\n",
       "  </tbody>\n",
       "</table>\n",
       "</div>"
      ],
      "text/plain": [
       "   Survived  Pclass     Sex   Age  SibSp  Parch     Fare Embarked\n",
       "0         0       3    male  22.0      1      0   7.2500        S\n",
       "1         1       1  female  38.0      1      0  71.2833        C\n",
       "2         1       3  female  26.0      0      0   7.9250        S\n",
       "3         1       1  female  35.0      1      0  53.1000        S\n",
       "4         0       3    male  35.0      0      0   8.0500        S"
      ]
     },
     "execution_count": 6,
     "metadata": {},
     "output_type": "execute_result"
    }
   ],
   "source": [
    "df.head()"
   ]
  },
  {
   "cell_type": "code",
   "execution_count": 7,
   "id": "0e536638",
   "metadata": {
    "execution": {
     "iopub.execute_input": "2022-06-22T09:29:37.153656Z",
     "iopub.status.busy": "2022-06-22T09:29:37.152835Z",
     "iopub.status.idle": "2022-06-22T09:29:37.163287Z",
     "shell.execute_reply": "2022-06-22T09:29:37.162552Z"
    },
    "papermill": {
     "duration": 0.030096,
     "end_time": "2022-06-22T09:29:37.165730",
     "exception": false,
     "start_time": "2022-06-22T09:29:37.135634",
     "status": "completed"
    },
    "tags": []
   },
   "outputs": [],
   "source": [
    "# step 1 -> train/test/split\n",
    "\n",
    "X_train,X_test,y_train,y_test = train_test_split(df.drop(columns=['Survived']),\n",
    "                                                 df['Survived'],\n",
    "                                                 test_size=0.2,\n",
    "                                                random_state=42)"
   ]
  },
  {
   "cell_type": "code",
   "execution_count": 8,
   "id": "8fe53b47",
   "metadata": {
    "execution": {
     "iopub.execute_input": "2022-06-22T09:29:37.199648Z",
     "iopub.status.busy": "2022-06-22T09:29:37.198925Z",
     "iopub.status.idle": "2022-06-22T09:29:37.212450Z",
     "shell.execute_reply": "2022-06-22T09:29:37.211387Z"
    },
    "papermill": {
     "duration": 0.03309,
     "end_time": "2022-06-22T09:29:37.214699",
     "exception": false,
     "start_time": "2022-06-22T09:29:37.181609",
     "status": "completed"
    },
    "tags": []
   },
   "outputs": [
    {
     "data": {
      "text/html": [
       "<div>\n",
       "<style scoped>\n",
       "    .dataframe tbody tr th:only-of-type {\n",
       "        vertical-align: middle;\n",
       "    }\n",
       "\n",
       "    .dataframe tbody tr th {\n",
       "        vertical-align: top;\n",
       "    }\n",
       "\n",
       "    .dataframe thead th {\n",
       "        text-align: right;\n",
       "    }\n",
       "</style>\n",
       "<table border=\"1\" class=\"dataframe\">\n",
       "  <thead>\n",
       "    <tr style=\"text-align: right;\">\n",
       "      <th></th>\n",
       "      <th>Pclass</th>\n",
       "      <th>Sex</th>\n",
       "      <th>Age</th>\n",
       "      <th>SibSp</th>\n",
       "      <th>Parch</th>\n",
       "      <th>Fare</th>\n",
       "      <th>Embarked</th>\n",
       "    </tr>\n",
       "  </thead>\n",
       "  <tbody>\n",
       "    <tr>\n",
       "      <th>331</th>\n",
       "      <td>1</td>\n",
       "      <td>male</td>\n",
       "      <td>45.5</td>\n",
       "      <td>0</td>\n",
       "      <td>0</td>\n",
       "      <td>28.5</td>\n",
       "      <td>S</td>\n",
       "    </tr>\n",
       "    <tr>\n",
       "      <th>733</th>\n",
       "      <td>2</td>\n",
       "      <td>male</td>\n",
       "      <td>23.0</td>\n",
       "      <td>0</td>\n",
       "      <td>0</td>\n",
       "      <td>13.0</td>\n",
       "      <td>S</td>\n",
       "    </tr>\n",
       "  </tbody>\n",
       "</table>\n",
       "</div>"
      ],
      "text/plain": [
       "     Pclass   Sex   Age  SibSp  Parch  Fare Embarked\n",
       "331       1  male  45.5      0      0  28.5        S\n",
       "733       2  male  23.0      0      0  13.0        S"
      ]
     },
     "execution_count": 8,
     "metadata": {},
     "output_type": "execute_result"
    }
   ],
   "source": [
    "X_train.head(2)"
   ]
  },
  {
   "cell_type": "code",
   "execution_count": 9,
   "id": "2083fde2",
   "metadata": {
    "execution": {
     "iopub.execute_input": "2022-06-22T09:29:37.249398Z",
     "iopub.status.busy": "2022-06-22T09:29:37.248657Z",
     "iopub.status.idle": "2022-06-22T09:29:37.256343Z",
     "shell.execute_reply": "2022-06-22T09:29:37.255443Z"
    },
    "papermill": {
     "duration": 0.027357,
     "end_time": "2022-06-22T09:29:37.258556",
     "exception": false,
     "start_time": "2022-06-22T09:29:37.231199",
     "status": "completed"
    },
    "tags": []
   },
   "outputs": [
    {
     "data": {
      "text/plain": [
       "331    0\n",
       "733    0\n",
       "382    0\n",
       "704    0\n",
       "813    0\n",
       "Name: Survived, dtype: int64"
      ]
     },
     "execution_count": 9,
     "metadata": {},
     "output_type": "execute_result"
    }
   ],
   "source": [
    "y_train.head()"
   ]
  },
  {
   "cell_type": "code",
   "execution_count": 10,
   "id": "e250b71d",
   "metadata": {
    "execution": {
     "iopub.execute_input": "2022-06-22T09:29:37.293184Z",
     "iopub.status.busy": "2022-06-22T09:29:37.292480Z",
     "iopub.status.idle": "2022-06-22T09:29:37.302040Z",
     "shell.execute_reply": "2022-06-22T09:29:37.301262Z"
    },
    "papermill": {
     "duration": 0.02947,
     "end_time": "2022-06-22T09:29:37.304215",
     "exception": false,
     "start_time": "2022-06-22T09:29:37.274745",
     "status": "completed"
    },
    "tags": []
   },
   "outputs": [
    {
     "data": {
      "text/plain": [
       "Survived      0\n",
       "Pclass        0\n",
       "Sex           0\n",
       "Age         177\n",
       "SibSp         0\n",
       "Parch         0\n",
       "Fare          0\n",
       "Embarked      2\n",
       "dtype: int64"
      ]
     },
     "execution_count": 10,
     "metadata": {},
     "output_type": "execute_result"
    }
   ],
   "source": [
    "# we know that their is missing values in dataset\n",
    "\n",
    "df.isnull().sum()"
   ]
  },
  {
   "cell_type": "code",
   "execution_count": 11,
   "id": "48b52a58",
   "metadata": {
    "execution": {
     "iopub.execute_input": "2022-06-22T09:29:37.338572Z",
     "iopub.status.busy": "2022-06-22T09:29:37.338179Z",
     "iopub.status.idle": "2022-06-22T09:29:37.342931Z",
     "shell.execute_reply": "2022-06-22T09:29:37.341836Z"
    },
    "papermill": {
     "duration": 0.024897,
     "end_time": "2022-06-22T09:29:37.345297",
     "exception": false,
     "start_time": "2022-06-22T09:29:37.320400",
     "status": "completed"
    },
    "tags": []
   },
   "outputs": [],
   "source": [
    "# so now we have to impute the missing values\n",
    "\n",
    "si_age = SimpleImputer()\n",
    "si_embarked = SimpleImputer(strategy ='most_frequent')"
   ]
  },
  {
   "cell_type": "code",
   "execution_count": 12,
   "id": "bf96be7f",
   "metadata": {
    "execution": {
     "iopub.execute_input": "2022-06-22T09:29:37.380257Z",
     "iopub.status.busy": "2022-06-22T09:29:37.379152Z",
     "iopub.status.idle": "2022-06-22T09:29:37.398117Z",
     "shell.execute_reply": "2022-06-22T09:29:37.397346Z"
    },
    "papermill": {
     "duration": 0.038903,
     "end_time": "2022-06-22T09:29:37.400570",
     "exception": false,
     "start_time": "2022-06-22T09:29:37.361667",
     "status": "completed"
    },
    "tags": []
   },
   "outputs": [],
   "source": [
    "X_train_age = si_age.fit_transform(X_train[['Age']])\n",
    "X_train_embarked = si_embarked.fit_transform(X_train[['Embarked']])\n",
    "\n",
    "X_test_age = si_age.transform(X_test[['Age']])\n",
    "X_test_embarked = si_embarked.transform(X_test[['Embarked']])"
   ]
  },
  {
   "cell_type": "code",
   "execution_count": 13,
   "id": "8a8e18b0",
   "metadata": {
    "execution": {
     "iopub.execute_input": "2022-06-22T09:29:37.435201Z",
     "iopub.status.busy": "2022-06-22T09:29:37.434459Z",
     "iopub.status.idle": "2022-06-22T09:29:37.443554Z",
     "shell.execute_reply": "2022-06-22T09:29:37.442705Z"
    },
    "papermill": {
     "duration": 0.029011,
     "end_time": "2022-06-22T09:29:37.445730",
     "exception": false,
     "start_time": "2022-06-22T09:29:37.416719",
     "status": "completed"
    },
    "tags": []
   },
   "outputs": [
    {
     "data": {
      "text/plain": [
       "Pclass        0\n",
       "Sex           0\n",
       "Age         140\n",
       "SibSp         0\n",
       "Parch         0\n",
       "Fare          0\n",
       "Embarked      2\n",
       "dtype: int64"
      ]
     },
     "execution_count": 13,
     "metadata": {},
     "output_type": "execute_result"
    }
   ],
   "source": [
    "X_train.isnull().sum()\n"
   ]
  },
  {
   "cell_type": "code",
   "execution_count": 14,
   "id": "2537f4ae",
   "metadata": {
    "execution": {
     "iopub.execute_input": "2022-06-22T09:29:37.480670Z",
     "iopub.status.busy": "2022-06-22T09:29:37.479901Z",
     "iopub.status.idle": "2022-06-22T09:29:37.492154Z",
     "shell.execute_reply": "2022-06-22T09:29:37.491153Z"
    },
    "papermill": {
     "duration": 0.032376,
     "end_time": "2022-06-22T09:29:37.494408",
     "exception": false,
     "start_time": "2022-06-22T09:29:37.462032",
     "status": "completed"
    },
    "tags": []
   },
   "outputs": [
    {
     "data": {
      "text/html": [
       "<div>\n",
       "<style scoped>\n",
       "    .dataframe tbody tr th:only-of-type {\n",
       "        vertical-align: middle;\n",
       "    }\n",
       "\n",
       "    .dataframe tbody tr th {\n",
       "        vertical-align: top;\n",
       "    }\n",
       "\n",
       "    .dataframe thead th {\n",
       "        text-align: right;\n",
       "    }\n",
       "</style>\n",
       "<table border=\"1\" class=\"dataframe\">\n",
       "  <thead>\n",
       "    <tr style=\"text-align: right;\">\n",
       "      <th></th>\n",
       "      <th>Sex</th>\n",
       "    </tr>\n",
       "  </thead>\n",
       "  <tbody>\n",
       "    <tr>\n",
       "      <th>331</th>\n",
       "      <td>male</td>\n",
       "    </tr>\n",
       "    <tr>\n",
       "      <th>733</th>\n",
       "      <td>male</td>\n",
       "    </tr>\n",
       "    <tr>\n",
       "      <th>382</th>\n",
       "      <td>male</td>\n",
       "    </tr>\n",
       "    <tr>\n",
       "      <th>704</th>\n",
       "      <td>male</td>\n",
       "    </tr>\n",
       "    <tr>\n",
       "      <th>813</th>\n",
       "      <td>female</td>\n",
       "    </tr>\n",
       "    <tr>\n",
       "      <th>...</th>\n",
       "      <td>...</td>\n",
       "    </tr>\n",
       "    <tr>\n",
       "      <th>106</th>\n",
       "      <td>female</td>\n",
       "    </tr>\n",
       "    <tr>\n",
       "      <th>270</th>\n",
       "      <td>male</td>\n",
       "    </tr>\n",
       "    <tr>\n",
       "      <th>860</th>\n",
       "      <td>male</td>\n",
       "    </tr>\n",
       "    <tr>\n",
       "      <th>435</th>\n",
       "      <td>female</td>\n",
       "    </tr>\n",
       "    <tr>\n",
       "      <th>102</th>\n",
       "      <td>male</td>\n",
       "    </tr>\n",
       "  </tbody>\n",
       "</table>\n",
       "<p>712 rows × 1 columns</p>\n",
       "</div>"
      ],
      "text/plain": [
       "        Sex\n",
       "331    male\n",
       "733    male\n",
       "382    male\n",
       "704    male\n",
       "813  female\n",
       "..      ...\n",
       "106  female\n",
       "270    male\n",
       "860    male\n",
       "435  female\n",
       "102    male\n",
       "\n",
       "[712 rows x 1 columns]"
      ]
     },
     "execution_count": 14,
     "metadata": {},
     "output_type": "execute_result"
    }
   ],
   "source": [
    "X_train[['Sex']]"
   ]
  },
  {
   "cell_type": "raw",
   "id": "f3f896ce",
   "metadata": {
    "execution": {
     "iopub.execute_input": "2022-06-22T03:42:35.462007Z",
     "iopub.status.busy": "2022-06-22T03:42:35.461509Z",
     "iopub.status.idle": "2022-06-22T03:42:35.48203Z",
     "shell.execute_reply": "2022-06-22T03:42:35.480513Z",
     "shell.execute_reply.started": "2022-06-22T03:42:35.46195Z"
    },
    "papermill": {
     "duration": 0.016341,
     "end_time": "2022-06-22T09:29:37.527450",
     "exception": false,
     "start_time": "2022-06-22T09:29:37.511109",
     "status": "completed"
    },
    "tags": []
   },
   "source": [
    "X_train_embarked"
   ]
  },
  {
   "cell_type": "code",
   "execution_count": 15,
   "id": "031d42c2",
   "metadata": {
    "execution": {
     "iopub.execute_input": "2022-06-22T09:29:37.562595Z",
     "iopub.status.busy": "2022-06-22T09:29:37.562203Z",
     "iopub.status.idle": "2022-06-22T09:29:37.573553Z",
     "shell.execute_reply": "2022-06-22T09:29:37.572679Z"
    },
    "papermill": {
     "duration": 0.031883,
     "end_time": "2022-06-22T09:29:37.576067",
     "exception": false,
     "start_time": "2022-06-22T09:29:37.544184",
     "status": "completed"
    },
    "tags": []
   },
   "outputs": [],
   "source": [
    "ohe_sex =OneHotEncoder(sparse = False,handle_unknown='ignore')\n",
    "ohe_embarked= OneHotEncoder(sparse = False,handle_unknown='ignore')\n",
    "\n",
    "\n",
    "# here we have 0 missing values in the 'sex' so we used X_train[['Sex']].\n",
    "X_train_sex = ohe_sex.fit_transform(X_train[['Sex']])\n",
    "# here we have 2 missong values in the actual set so we used over imputer array for fit_transform().\n",
    "X_train_embarked = ohe_embarked.fit_transform(X_train_embarked)\n",
    "\n",
    "X_test_sex = ohe_sex.transform(X_test[['Sex']])\n",
    "X_test_embarked = ohe_embarked.transform(X_test_embarked)"
   ]
  },
  {
   "cell_type": "code",
   "execution_count": 16,
   "id": "2c3efd06",
   "metadata": {
    "execution": {
     "iopub.execute_input": "2022-06-22T09:29:37.611167Z",
     "iopub.status.busy": "2022-06-22T09:29:37.610443Z",
     "iopub.status.idle": "2022-06-22T09:29:37.617406Z",
     "shell.execute_reply": "2022-06-22T09:29:37.616521Z"
    },
    "papermill": {
     "duration": 0.02703,
     "end_time": "2022-06-22T09:29:37.619565",
     "exception": false,
     "start_time": "2022-06-22T09:29:37.592535",
     "status": "completed"
    },
    "tags": []
   },
   "outputs": [
    {
     "data": {
      "text/plain": [
       "array([[0., 1.],\n",
       "       [0., 1.],\n",
       "       [0., 1.],\n",
       "       ...,\n",
       "       [0., 1.],\n",
       "       [1., 0.],\n",
       "       [0., 1.]])"
      ]
     },
     "execution_count": 16,
     "metadata": {},
     "output_type": "execute_result"
    }
   ],
   "source": [
    "X_train_sex"
   ]
  },
  {
   "cell_type": "code",
   "execution_count": 17,
   "id": "4c4332c1",
   "metadata": {
    "execution": {
     "iopub.execute_input": "2022-06-22T09:29:37.655255Z",
     "iopub.status.busy": "2022-06-22T09:29:37.654536Z",
     "iopub.status.idle": "2022-06-22T09:29:37.661471Z",
     "shell.execute_reply": "2022-06-22T09:29:37.660636Z"
    },
    "papermill": {
     "duration": 0.027438,
     "end_time": "2022-06-22T09:29:37.663639",
     "exception": false,
     "start_time": "2022-06-22T09:29:37.636201",
     "status": "completed"
    },
    "tags": []
   },
   "outputs": [
    {
     "data": {
      "text/plain": [
       "array([[0., 0., 1.],\n",
       "       [0., 0., 1.],\n",
       "       [0., 0., 1.],\n",
       "       ...,\n",
       "       [0., 0., 1.],\n",
       "       [0., 0., 1.],\n",
       "       [0., 0., 1.]])"
      ]
     },
     "execution_count": 17,
     "metadata": {},
     "output_type": "execute_result"
    }
   ],
   "source": [
    "X_train_embarked"
   ]
  },
  {
   "cell_type": "code",
   "execution_count": 18,
   "id": "d5cd9f4f",
   "metadata": {
    "execution": {
     "iopub.execute_input": "2022-06-22T09:29:37.699443Z",
     "iopub.status.busy": "2022-06-22T09:29:37.698712Z",
     "iopub.status.idle": "2022-06-22T09:29:37.711484Z",
     "shell.execute_reply": "2022-06-22T09:29:37.710571Z"
    },
    "papermill": {
     "duration": 0.033215,
     "end_time": "2022-06-22T09:29:37.713697",
     "exception": false,
     "start_time": "2022-06-22T09:29:37.680482",
     "status": "completed"
    },
    "tags": []
   },
   "outputs": [
    {
     "data": {
      "text/html": [
       "<div>\n",
       "<style scoped>\n",
       "    .dataframe tbody tr th:only-of-type {\n",
       "        vertical-align: middle;\n",
       "    }\n",
       "\n",
       "    .dataframe tbody tr th {\n",
       "        vertical-align: top;\n",
       "    }\n",
       "\n",
       "    .dataframe thead th {\n",
       "        text-align: right;\n",
       "    }\n",
       "</style>\n",
       "<table border=\"1\" class=\"dataframe\">\n",
       "  <thead>\n",
       "    <tr style=\"text-align: right;\">\n",
       "      <th></th>\n",
       "      <th>Pclass</th>\n",
       "      <th>Sex</th>\n",
       "      <th>Age</th>\n",
       "      <th>SibSp</th>\n",
       "      <th>Parch</th>\n",
       "      <th>Fare</th>\n",
       "      <th>Embarked</th>\n",
       "    </tr>\n",
       "  </thead>\n",
       "  <tbody>\n",
       "    <tr>\n",
       "      <th>331</th>\n",
       "      <td>1</td>\n",
       "      <td>male</td>\n",
       "      <td>45.5</td>\n",
       "      <td>0</td>\n",
       "      <td>0</td>\n",
       "      <td>28.5</td>\n",
       "      <td>S</td>\n",
       "    </tr>\n",
       "    <tr>\n",
       "      <th>733</th>\n",
       "      <td>2</td>\n",
       "      <td>male</td>\n",
       "      <td>23.0</td>\n",
       "      <td>0</td>\n",
       "      <td>0</td>\n",
       "      <td>13.0</td>\n",
       "      <td>S</td>\n",
       "    </tr>\n",
       "  </tbody>\n",
       "</table>\n",
       "</div>"
      ],
      "text/plain": [
       "     Pclass   Sex   Age  SibSp  Parch  Fare Embarked\n",
       "331       1  male  45.5      0      0  28.5        S\n",
       "733       2  male  23.0      0      0  13.0        S"
      ]
     },
     "execution_count": 18,
     "metadata": {},
     "output_type": "execute_result"
    }
   ],
   "source": [
    "\n",
    "X_train.head(2)"
   ]
  },
  {
   "cell_type": "code",
   "execution_count": 19,
   "id": "3973b377",
   "metadata": {
    "execution": {
     "iopub.execute_input": "2022-06-22T09:29:37.750416Z",
     "iopub.status.busy": "2022-06-22T09:29:37.749658Z",
     "iopub.status.idle": "2022-06-22T09:29:37.755796Z",
     "shell.execute_reply": "2022-06-22T09:29:37.754885Z"
    },
    "papermill": {
     "duration": 0.027342,
     "end_time": "2022-06-22T09:29:37.758046",
     "exception": false,
     "start_time": "2022-06-22T09:29:37.730704",
     "status": "completed"
    },
    "tags": []
   },
   "outputs": [],
   "source": [
    "X_train_rem = X_train.drop(columns=['Sex','Age','Embarked'])"
   ]
  },
  {
   "cell_type": "code",
   "execution_count": 20,
   "id": "d5e1febd",
   "metadata": {
    "execution": {
     "iopub.execute_input": "2022-06-22T09:29:37.795461Z",
     "iopub.status.busy": "2022-06-22T09:29:37.795046Z",
     "iopub.status.idle": "2022-06-22T09:29:37.800543Z",
     "shell.execute_reply": "2022-06-22T09:29:37.799440Z"
    },
    "papermill": {
     "duration": 0.026836,
     "end_time": "2022-06-22T09:29:37.802828",
     "exception": false,
     "start_time": "2022-06-22T09:29:37.775992",
     "status": "completed"
    },
    "tags": []
   },
   "outputs": [],
   "source": [
    "X_test_rem = X_test.drop(columns=['Sex','Age','Embarked'])"
   ]
  },
  {
   "cell_type": "code",
   "execution_count": 21,
   "id": "6432f6a5",
   "metadata": {
    "execution": {
     "iopub.execute_input": "2022-06-22T09:29:37.839563Z",
     "iopub.status.busy": "2022-06-22T09:29:37.838455Z",
     "iopub.status.idle": "2022-06-22T09:29:37.846070Z",
     "shell.execute_reply": "2022-06-22T09:29:37.845198Z"
    },
    "papermill": {
     "duration": 0.02874,
     "end_time": "2022-06-22T09:29:37.848559",
     "exception": false,
     "start_time": "2022-06-22T09:29:37.819819",
     "status": "completed"
    },
    "tags": []
   },
   "outputs": [
    {
     "data": {
      "text/plain": [
       "(712, 3)"
      ]
     },
     "execution_count": 21,
     "metadata": {},
     "output_type": "execute_result"
    }
   ],
   "source": [
    "X_test_rem.shape\n",
    "X_train_embarked.shape"
   ]
  },
  {
   "cell_type": "code",
   "execution_count": 22,
   "id": "4b63c40f",
   "metadata": {
    "execution": {
     "iopub.execute_input": "2022-06-22T09:29:37.887216Z",
     "iopub.status.busy": "2022-06-22T09:29:37.886505Z",
     "iopub.status.idle": "2022-06-22T09:29:37.893346Z",
     "shell.execute_reply": "2022-06-22T09:29:37.892203Z"
    },
    "papermill": {
     "duration": 0.029003,
     "end_time": "2022-06-22T09:29:37.896030",
     "exception": false,
     "start_time": "2022-06-22T09:29:37.867027",
     "status": "completed"
    },
    "tags": []
   },
   "outputs": [],
   "source": [
    "X_train_transformed = np.concatenate((X_train_rem,X_train_age,X_train_sex,X_train_embarked),axis=1)\n",
    "X_test_transformed = np.concatenate((X_test_rem,X_test_age,X_test_sex,X_test_embarked),axis=1)"
   ]
  },
  {
   "cell_type": "code",
   "execution_count": 23,
   "id": "a64c1ec5",
   "metadata": {
    "execution": {
     "iopub.execute_input": "2022-06-22T09:29:37.934941Z",
     "iopub.status.busy": "2022-06-22T09:29:37.934217Z",
     "iopub.status.idle": "2022-06-22T09:29:37.940766Z",
     "shell.execute_reply": "2022-06-22T09:29:37.939881Z"
    },
    "papermill": {
     "duration": 0.028439,
     "end_time": "2022-06-22T09:29:37.942786",
     "exception": false,
     "start_time": "2022-06-22T09:29:37.914347",
     "status": "completed"
    },
    "tags": []
   },
   "outputs": [
    {
     "data": {
      "text/plain": [
       "(712, 10)"
      ]
     },
     "execution_count": 23,
     "metadata": {},
     "output_type": "execute_result"
    }
   ],
   "source": [
    "X_train_transformed.shape"
   ]
  },
  {
   "cell_type": "code",
   "execution_count": 24,
   "id": "6345879c",
   "metadata": {
    "execution": {
     "iopub.execute_input": "2022-06-22T09:29:37.981253Z",
     "iopub.status.busy": "2022-06-22T09:29:37.980607Z",
     "iopub.status.idle": "2022-06-22T09:29:37.987940Z",
     "shell.execute_reply": "2022-06-22T09:29:37.986620Z"
    },
    "papermill": {
     "duration": 0.029566,
     "end_time": "2022-06-22T09:29:37.990556",
     "exception": false,
     "start_time": "2022-06-22T09:29:37.960990",
     "status": "completed"
    },
    "tags": []
   },
   "outputs": [
    {
     "data": {
      "text/plain": [
       "(179, 10)"
      ]
     },
     "execution_count": 24,
     "metadata": {},
     "output_type": "execute_result"
    }
   ],
   "source": [
    "X_test_transformed.shape"
   ]
  },
  {
   "cell_type": "code",
   "execution_count": 25,
   "id": "43e6a5f9",
   "metadata": {
    "execution": {
     "iopub.execute_input": "2022-06-22T09:29:38.030999Z",
     "iopub.status.busy": "2022-06-22T09:29:38.030571Z",
     "iopub.status.idle": "2022-06-22T09:29:38.044197Z",
     "shell.execute_reply": "2022-06-22T09:29:38.043303Z"
    },
    "papermill": {
     "duration": 0.035934,
     "end_time": "2022-06-22T09:29:38.046700",
     "exception": false,
     "start_time": "2022-06-22T09:29:38.010766",
     "status": "completed"
    },
    "tags": []
   },
   "outputs": [
    {
     "data": {
      "text/plain": [
       "DecisionTreeClassifier()"
      ]
     },
     "execution_count": 25,
     "metadata": {},
     "output_type": "execute_result"
    }
   ],
   "source": [
    "clf = DecisionTreeClassifier()\n",
    "clf.fit(X_train_transformed,y_train)"
   ]
  },
  {
   "cell_type": "code",
   "execution_count": 26,
   "id": "a9d607a3",
   "metadata": {
    "execution": {
     "iopub.execute_input": "2022-06-22T09:29:38.086168Z",
     "iopub.status.busy": "2022-06-22T09:29:38.085504Z",
     "iopub.status.idle": "2022-06-22T09:29:38.090842Z",
     "shell.execute_reply": "2022-06-22T09:29:38.089955Z"
    },
    "papermill": {
     "duration": 0.027972,
     "end_time": "2022-06-22T09:29:38.093111",
     "exception": false,
     "start_time": "2022-06-22T09:29:38.065139",
     "status": "completed"
    },
    "tags": []
   },
   "outputs": [],
   "source": [
    "y_pred = clf.predict(X_test_transformed)"
   ]
  },
  {
   "cell_type": "code",
   "execution_count": 27,
   "id": "2541919f",
   "metadata": {
    "execution": {
     "iopub.execute_input": "2022-06-22T09:29:38.132629Z",
     "iopub.status.busy": "2022-06-22T09:29:38.131947Z",
     "iopub.status.idle": "2022-06-22T09:29:38.139287Z",
     "shell.execute_reply": "2022-06-22T09:29:38.138140Z"
    },
    "papermill": {
     "duration": 0.029483,
     "end_time": "2022-06-22T09:29:38.141529",
     "exception": false,
     "start_time": "2022-06-22T09:29:38.112046",
     "status": "completed"
    },
    "tags": []
   },
   "outputs": [
    {
     "data": {
      "text/plain": [
       "array([0, 1, 0, 1, 1, 1, 1, 0, 1, 1, 0, 0, 0, 0, 0, 1, 0, 1, 0, 0, 0, 0,\n",
       "       0, 0, 0, 0, 0, 1, 0, 0, 0, 1, 1, 1, 0, 0, 1, 1, 1, 0, 0, 1, 0, 0,\n",
       "       0, 0, 0, 0, 1, 0, 1, 1, 0, 1, 1, 1, 1, 0, 1, 0, 1, 1, 1, 0, 0, 1,\n",
       "       0, 0, 0, 1, 1, 1, 1, 1, 0, 0, 1, 1, 1, 1, 0, 1, 1, 0, 1, 0, 1, 1,\n",
       "       0, 0, 1, 0, 0, 0, 0, 0, 1, 0, 1, 0, 0, 0, 1, 0, 0, 1, 1, 0, 0, 0,\n",
       "       1, 0, 1, 1, 0, 0, 0, 0, 1, 0, 0, 1, 1, 1, 0, 0, 1, 1, 0, 0, 1, 0,\n",
       "       0, 1, 1, 0, 1, 0, 0, 0, 0, 1, 0, 0, 0, 1, 0, 1, 1, 0, 0, 1, 0, 0,\n",
       "       0, 0, 0, 1, 1, 1, 0, 0, 0, 1, 0, 0, 0, 1, 0, 0, 0, 1, 1, 1, 0, 0,\n",
       "       0, 1, 1])"
      ]
     },
     "execution_count": 27,
     "metadata": {},
     "output_type": "execute_result"
    }
   ],
   "source": [
    "y_pred"
   ]
  },
  {
   "cell_type": "code",
   "execution_count": 28,
   "id": "1ec0f57f",
   "metadata": {
    "execution": {
     "iopub.execute_input": "2022-06-22T09:29:38.182616Z",
     "iopub.status.busy": "2022-06-22T09:29:38.181279Z",
     "iopub.status.idle": "2022-06-22T09:29:38.190661Z",
     "shell.execute_reply": "2022-06-22T09:29:38.189392Z"
    },
    "papermill": {
     "duration": 0.031707,
     "end_time": "2022-06-22T09:29:38.192890",
     "exception": false,
     "start_time": "2022-06-22T09:29:38.161183",
     "status": "completed"
    },
    "tags": []
   },
   "outputs": [
    {
     "data": {
      "text/plain": [
       "0.7821229050279329"
      ]
     },
     "execution_count": 28,
     "metadata": {},
     "output_type": "execute_result"
    }
   ],
   "source": [
    "from sklearn.metrics import accuracy_score\n",
    "accuracy_score(y_test,y_pred)"
   ]
  },
  {
   "cell_type": "markdown",
   "id": "0889a7b0",
   "metadata": {
    "papermill": {
     "duration": 0.017938,
     "end_time": "2022-06-22T09:29:38.229101",
     "exception": false,
     "start_time": "2022-06-22T09:29:38.211163",
     "status": "completed"
    },
    "tags": []
   },
   "source": []
  },
  {
   "cell_type": "markdown",
   "id": "6b6f7e00",
   "metadata": {
    "papermill": {
     "duration": 0.018046,
     "end_time": "2022-06-22T09:29:38.265893",
     "exception": false,
     "start_time": "2022-06-22T09:29:38.247847",
     "status": "completed"
    },
    "tags": []
   },
   "source": [
    "Now suppose we have to deploy this model\n",
    "\n",
    "So,now if we have user who can enter evrery details like embarked ,age ,sex,parch,fare and all detail and pass into model as input\n",
    "then we have to do all of the preprocessinig steps that we have done before we have to do it again and we have to take care of every data to be in smae as in the actual model , and it was very tedious task to do that.\n",
    "To, Overcome this problem we have **Machine Leaning Pipelines**."
   ]
  },
  {
   "cell_type": "markdown",
   "id": "ee4c264e",
   "metadata": {
    "papermill": {
     "duration": 0.018,
     "end_time": "2022-06-22T09:29:38.303010",
     "exception": false,
     "start_time": "2022-06-22T09:29:38.285010",
     "status": "completed"
    },
    "tags": []
   },
   "source": [
    "# With Machine Learning pipelines\n",
    "\n",
    "Do everything again"
   ]
  },
  {
   "cell_type": "code",
   "execution_count": 29,
   "id": "5424d254",
   "metadata": {
    "execution": {
     "iopub.execute_input": "2022-06-22T09:29:38.343125Z",
     "iopub.status.busy": "2022-06-22T09:29:38.341851Z",
     "iopub.status.idle": "2022-06-22T09:29:38.367587Z",
     "shell.execute_reply": "2022-06-22T09:29:38.366647Z"
    },
    "papermill": {
     "duration": 0.048417,
     "end_time": "2022-06-22T09:29:38.370391",
     "exception": false,
     "start_time": "2022-06-22T09:29:38.321974",
     "status": "completed"
    },
    "tags": []
   },
   "outputs": [],
   "source": [
    "# import all library that we have import before\n",
    "from sklearn.compose import ColumnTransformer\n",
    "from sklearn.pipeline import Pipeline,make_pipeline\n",
    "from sklearn.feature_selection import SelectKBest,chi2"
   ]
  },
  {
   "cell_type": "markdown",
   "id": "e907185d",
   "metadata": {
    "papermill": {
     "duration": 0.017702,
     "end_time": "2022-06-22T09:29:38.406493",
     "exception": false,
     "start_time": "2022-06-22T09:29:38.388791",
     "status": "completed"
    },
    "tags": []
   },
   "source": [
    "# With Pipelines"
   ]
  },
  {
   "cell_type": "code",
   "execution_count": 30,
   "id": "4c85b490",
   "metadata": {
    "execution": {
     "iopub.execute_input": "2022-06-22T09:29:38.444844Z",
     "iopub.status.busy": "2022-06-22T09:29:38.444137Z",
     "iopub.status.idle": "2022-06-22T09:29:38.464761Z",
     "shell.execute_reply": "2022-06-22T09:29:38.463541Z"
    },
    "papermill": {
     "duration": 0.042488,
     "end_time": "2022-06-22T09:29:38.467235",
     "exception": false,
     "start_time": "2022-06-22T09:29:38.424747",
     "status": "completed"
    },
    "tags": []
   },
   "outputs": [
    {
     "data": {
      "text/html": [
       "<div>\n",
       "<style scoped>\n",
       "    .dataframe tbody tr th:only-of-type {\n",
       "        vertical-align: middle;\n",
       "    }\n",
       "\n",
       "    .dataframe tbody tr th {\n",
       "        vertical-align: top;\n",
       "    }\n",
       "\n",
       "    .dataframe thead th {\n",
       "        text-align: right;\n",
       "    }\n",
       "</style>\n",
       "<table border=\"1\" class=\"dataframe\">\n",
       "  <thead>\n",
       "    <tr style=\"text-align: right;\">\n",
       "      <th></th>\n",
       "      <th>Survived</th>\n",
       "      <th>Pclass</th>\n",
       "      <th>Sex</th>\n",
       "      <th>Age</th>\n",
       "      <th>SibSp</th>\n",
       "      <th>Parch</th>\n",
       "      <th>Fare</th>\n",
       "      <th>Embarked</th>\n",
       "    </tr>\n",
       "  </thead>\n",
       "  <tbody>\n",
       "    <tr>\n",
       "      <th>0</th>\n",
       "      <td>0</td>\n",
       "      <td>3</td>\n",
       "      <td>male</td>\n",
       "      <td>22.0</td>\n",
       "      <td>1</td>\n",
       "      <td>0</td>\n",
       "      <td>7.2500</td>\n",
       "      <td>S</td>\n",
       "    </tr>\n",
       "    <tr>\n",
       "      <th>1</th>\n",
       "      <td>1</td>\n",
       "      <td>1</td>\n",
       "      <td>female</td>\n",
       "      <td>38.0</td>\n",
       "      <td>1</td>\n",
       "      <td>0</td>\n",
       "      <td>71.2833</td>\n",
       "      <td>C</td>\n",
       "    </tr>\n",
       "    <tr>\n",
       "      <th>2</th>\n",
       "      <td>1</td>\n",
       "      <td>3</td>\n",
       "      <td>female</td>\n",
       "      <td>26.0</td>\n",
       "      <td>0</td>\n",
       "      <td>0</td>\n",
       "      <td>7.9250</td>\n",
       "      <td>S</td>\n",
       "    </tr>\n",
       "    <tr>\n",
       "      <th>3</th>\n",
       "      <td>1</td>\n",
       "      <td>1</td>\n",
       "      <td>female</td>\n",
       "      <td>35.0</td>\n",
       "      <td>1</td>\n",
       "      <td>0</td>\n",
       "      <td>53.1000</td>\n",
       "      <td>S</td>\n",
       "    </tr>\n",
       "    <tr>\n",
       "      <th>4</th>\n",
       "      <td>0</td>\n",
       "      <td>3</td>\n",
       "      <td>male</td>\n",
       "      <td>35.0</td>\n",
       "      <td>0</td>\n",
       "      <td>0</td>\n",
       "      <td>8.0500</td>\n",
       "      <td>S</td>\n",
       "    </tr>\n",
       "    <tr>\n",
       "      <th>...</th>\n",
       "      <td>...</td>\n",
       "      <td>...</td>\n",
       "      <td>...</td>\n",
       "      <td>...</td>\n",
       "      <td>...</td>\n",
       "      <td>...</td>\n",
       "      <td>...</td>\n",
       "      <td>...</td>\n",
       "    </tr>\n",
       "    <tr>\n",
       "      <th>886</th>\n",
       "      <td>0</td>\n",
       "      <td>2</td>\n",
       "      <td>male</td>\n",
       "      <td>27.0</td>\n",
       "      <td>0</td>\n",
       "      <td>0</td>\n",
       "      <td>13.0000</td>\n",
       "      <td>S</td>\n",
       "    </tr>\n",
       "    <tr>\n",
       "      <th>887</th>\n",
       "      <td>1</td>\n",
       "      <td>1</td>\n",
       "      <td>female</td>\n",
       "      <td>19.0</td>\n",
       "      <td>0</td>\n",
       "      <td>0</td>\n",
       "      <td>30.0000</td>\n",
       "      <td>S</td>\n",
       "    </tr>\n",
       "    <tr>\n",
       "      <th>888</th>\n",
       "      <td>0</td>\n",
       "      <td>3</td>\n",
       "      <td>female</td>\n",
       "      <td>NaN</td>\n",
       "      <td>1</td>\n",
       "      <td>2</td>\n",
       "      <td>23.4500</td>\n",
       "      <td>S</td>\n",
       "    </tr>\n",
       "    <tr>\n",
       "      <th>889</th>\n",
       "      <td>1</td>\n",
       "      <td>1</td>\n",
       "      <td>male</td>\n",
       "      <td>26.0</td>\n",
       "      <td>0</td>\n",
       "      <td>0</td>\n",
       "      <td>30.0000</td>\n",
       "      <td>C</td>\n",
       "    </tr>\n",
       "    <tr>\n",
       "      <th>890</th>\n",
       "      <td>0</td>\n",
       "      <td>3</td>\n",
       "      <td>male</td>\n",
       "      <td>32.0</td>\n",
       "      <td>0</td>\n",
       "      <td>0</td>\n",
       "      <td>7.7500</td>\n",
       "      <td>Q</td>\n",
       "    </tr>\n",
       "  </tbody>\n",
       "</table>\n",
       "<p>891 rows × 8 columns</p>\n",
       "</div>"
      ],
      "text/plain": [
       "     Survived  Pclass     Sex   Age  SibSp  Parch     Fare Embarked\n",
       "0           0       3    male  22.0      1      0   7.2500        S\n",
       "1           1       1  female  38.0      1      0  71.2833        C\n",
       "2           1       3  female  26.0      0      0   7.9250        S\n",
       "3           1       1  female  35.0      1      0  53.1000        S\n",
       "4           0       3    male  35.0      0      0   8.0500        S\n",
       "..        ...     ...     ...   ...    ...    ...      ...      ...\n",
       "886         0       2    male  27.0      0      0  13.0000        S\n",
       "887         1       1  female  19.0      0      0  30.0000        S\n",
       "888         0       3  female   NaN      1      2  23.4500        S\n",
       "889         1       1    male  26.0      0      0  30.0000        C\n",
       "890         0       3    male  32.0      0      0   7.7500        Q\n",
       "\n",
       "[891 rows x 8 columns]"
      ]
     },
     "execution_count": 30,
     "metadata": {},
     "output_type": "execute_result"
    }
   ],
   "source": [
    "df"
   ]
  },
  {
   "cell_type": "code",
   "execution_count": 31,
   "id": "919f144d",
   "metadata": {
    "execution": {
     "iopub.execute_input": "2022-06-22T09:29:38.506641Z",
     "iopub.status.busy": "2022-06-22T09:29:38.505918Z",
     "iopub.status.idle": "2022-06-22T09:29:38.520971Z",
     "shell.execute_reply": "2022-06-22T09:29:38.519838Z"
    },
    "papermill": {
     "duration": 0.037987,
     "end_time": "2022-06-22T09:29:38.523779",
     "exception": false,
     "start_time": "2022-06-22T09:29:38.485792",
     "status": "completed"
    },
    "tags": []
   },
   "outputs": [
    {
     "data": {
      "text/html": [
       "<div>\n",
       "<style scoped>\n",
       "    .dataframe tbody tr th:only-of-type {\n",
       "        vertical-align: middle;\n",
       "    }\n",
       "\n",
       "    .dataframe tbody tr th {\n",
       "        vertical-align: top;\n",
       "    }\n",
       "\n",
       "    .dataframe thead th {\n",
       "        text-align: right;\n",
       "    }\n",
       "</style>\n",
       "<table border=\"1\" class=\"dataframe\">\n",
       "  <thead>\n",
       "    <tr style=\"text-align: right;\">\n",
       "      <th></th>\n",
       "      <th>Pclass</th>\n",
       "      <th>Sex</th>\n",
       "      <th>Age</th>\n",
       "      <th>SibSp</th>\n",
       "      <th>Parch</th>\n",
       "      <th>Fare</th>\n",
       "      <th>Embarked</th>\n",
       "    </tr>\n",
       "  </thead>\n",
       "  <tbody>\n",
       "    <tr>\n",
       "      <th>331</th>\n",
       "      <td>1</td>\n",
       "      <td>male</td>\n",
       "      <td>45.5</td>\n",
       "      <td>0</td>\n",
       "      <td>0</td>\n",
       "      <td>28.5000</td>\n",
       "      <td>S</td>\n",
       "    </tr>\n",
       "    <tr>\n",
       "      <th>733</th>\n",
       "      <td>2</td>\n",
       "      <td>male</td>\n",
       "      <td>23.0</td>\n",
       "      <td>0</td>\n",
       "      <td>0</td>\n",
       "      <td>13.0000</td>\n",
       "      <td>S</td>\n",
       "    </tr>\n",
       "    <tr>\n",
       "      <th>382</th>\n",
       "      <td>3</td>\n",
       "      <td>male</td>\n",
       "      <td>32.0</td>\n",
       "      <td>0</td>\n",
       "      <td>0</td>\n",
       "      <td>7.9250</td>\n",
       "      <td>S</td>\n",
       "    </tr>\n",
       "    <tr>\n",
       "      <th>704</th>\n",
       "      <td>3</td>\n",
       "      <td>male</td>\n",
       "      <td>26.0</td>\n",
       "      <td>1</td>\n",
       "      <td>0</td>\n",
       "      <td>7.8542</td>\n",
       "      <td>S</td>\n",
       "    </tr>\n",
       "    <tr>\n",
       "      <th>813</th>\n",
       "      <td>3</td>\n",
       "      <td>female</td>\n",
       "      <td>6.0</td>\n",
       "      <td>4</td>\n",
       "      <td>2</td>\n",
       "      <td>31.2750</td>\n",
       "      <td>S</td>\n",
       "    </tr>\n",
       "  </tbody>\n",
       "</table>\n",
       "</div>"
      ],
      "text/plain": [
       "     Pclass     Sex   Age  SibSp  Parch     Fare Embarked\n",
       "331       1    male  45.5      0      0  28.5000        S\n",
       "733       2    male  23.0      0      0  13.0000        S\n",
       "382       3    male  32.0      0      0   7.9250        S\n",
       "704       3    male  26.0      1      0   7.8542        S\n",
       "813       3  female   6.0      4      2  31.2750        S"
      ]
     },
     "execution_count": 31,
     "metadata": {},
     "output_type": "execute_result"
    }
   ],
   "source": [
    "X_train.head()"
   ]
  },
  {
   "cell_type": "code",
   "execution_count": 32,
   "id": "f876bac3",
   "metadata": {
    "execution": {
     "iopub.execute_input": "2022-06-22T09:29:38.563896Z",
     "iopub.status.busy": "2022-06-22T09:29:38.563499Z",
     "iopub.status.idle": "2022-06-22T09:29:38.574004Z",
     "shell.execute_reply": "2022-06-22T09:29:38.572786Z"
    },
    "papermill": {
     "duration": 0.034003,
     "end_time": "2022-06-22T09:29:38.576798",
     "exception": false,
     "start_time": "2022-06-22T09:29:38.542795",
     "status": "completed"
    },
    "tags": []
   },
   "outputs": [
    {
     "data": {
      "text/plain": [
       "871    1\n",
       "603    0\n",
       "430    1\n",
       "686    0\n",
       "277    0\n",
       "Name: Survived, dtype: int64"
      ]
     },
     "execution_count": 32,
     "metadata": {},
     "output_type": "execute_result"
    }
   ],
   "source": [
    "y_train.sample(5)"
   ]
  },
  {
   "cell_type": "markdown",
   "id": "accf4cbb",
   "metadata": {
    "papermill": {
     "duration": 0.018679,
     "end_time": "2022-06-22T09:29:38.614785",
     "exception": false,
     "start_time": "2022-06-22T09:29:38.596106",
     "status": "completed"
    },
    "tags": []
   },
   "source": [
    "### 1 . Imputation transformer  "
   ]
  },
  {
   "cell_type": "code",
   "execution_count": 33,
   "id": "f539a0b2",
   "metadata": {
    "execution": {
     "iopub.execute_input": "2022-06-22T09:29:38.655458Z",
     "iopub.status.busy": "2022-06-22T09:29:38.655058Z",
     "iopub.status.idle": "2022-06-22T09:29:38.660852Z",
     "shell.execute_reply": "2022-06-22T09:29:38.659506Z"
    },
    "papermill": {
     "duration": 0.029248,
     "end_time": "2022-06-22T09:29:38.663274",
     "exception": false,
     "start_time": "2022-06-22T09:29:38.634026",
     "status": "completed"
    },
    "tags": []
   },
   "outputs": [],
   "source": [
    "# in first step we are fill the all missing values by ColumnTransformer\n",
    "trf1 = ColumnTransformer([\n",
    "    ('impute_age',SimpleImputer(),[2]),\n",
    "    ('impute_embarked',SimpleImputer(strategy='most_frequent'),[6])\n",
    "],remainder='passthrough')"
   ]
  },
  {
   "cell_type": "markdown",
   "id": "b625f9a6",
   "metadata": {
    "papermill": {
     "duration": 0.019036,
     "end_time": "2022-06-22T09:29:38.701534",
     "exception": false,
     "start_time": "2022-06-22T09:29:38.682498",
     "status": "completed"
    },
    "tags": []
   },
   "source": [
    "### 2. One-Hot Encoding "
   ]
  },
  {
   "cell_type": "code",
   "execution_count": 34,
   "id": "43bdd8dd",
   "metadata": {
    "execution": {
     "iopub.execute_input": "2022-06-22T09:29:38.742038Z",
     "iopub.status.busy": "2022-06-22T09:29:38.741396Z",
     "iopub.status.idle": "2022-06-22T09:29:38.745916Z",
     "shell.execute_reply": "2022-06-22T09:29:38.745159Z"
    },
    "papermill": {
     "duration": 0.02736,
     "end_time": "2022-06-22T09:29:38.748113",
     "exception": false,
     "start_time": "2022-06-22T09:29:38.720753",
     "status": "completed"
    },
    "tags": []
   },
   "outputs": [],
   "source": [
    "trf2 = ColumnTransformer([\n",
    "    ('ohe_sex_embarked',OneHotEncoder(sparse=False,handle_unknown='ignore'),[1,6])\n",
    "],remainder='passthrough')"
   ]
  },
  {
   "cell_type": "markdown",
   "id": "82429d43",
   "metadata": {
    "papermill": {
     "duration": 0.018508,
     "end_time": "2022-06-22T09:29:38.785735",
     "exception": false,
     "start_time": "2022-06-22T09:29:38.767227",
     "status": "completed"
    },
    "tags": []
   },
   "source": [
    "### 3. Scaling\n",
    "\n",
    "Not important in this scenario but for learning purpose."
   ]
  },
  {
   "cell_type": "code",
   "execution_count": 35,
   "id": "9392ede2",
   "metadata": {
    "execution": {
     "iopub.execute_input": "2022-06-22T09:29:38.825967Z",
     "iopub.status.busy": "2022-06-22T09:29:38.825264Z",
     "iopub.status.idle": "2022-06-22T09:29:38.829702Z",
     "shell.execute_reply": "2022-06-22T09:29:38.828862Z"
    },
    "papermill": {
     "duration": 0.027607,
     "end_time": "2022-06-22T09:29:38.832098",
     "exception": false,
     "start_time": "2022-06-22T09:29:38.804491",
     "status": "completed"
    },
    "tags": []
   },
   "outputs": [],
   "source": [
    "trf3 = ColumnTransformer([\n",
    "    ('scale',MinMaxScaler(),slice(0,10))\n",
    "])"
   ]
  },
  {
   "cell_type": "markdown",
   "id": "e3c75ead",
   "metadata": {
    "papermill": {
     "duration": 0.01847,
     "end_time": "2022-06-22T09:29:38.870351",
     "exception": false,
     "start_time": "2022-06-22T09:29:38.851881",
     "status": "completed"
    },
    "tags": []
   },
   "source": [
    "### 4. Feature Selection\n",
    "\n",
    "at this point we don't have to worry about this below code but assume that it is there for feature selection."
   ]
  },
  {
   "cell_type": "code",
   "execution_count": 36,
   "id": "506ee95c",
   "metadata": {
    "execution": {
     "iopub.execute_input": "2022-06-22T09:29:38.912180Z",
     "iopub.status.busy": "2022-06-22T09:29:38.911240Z",
     "iopub.status.idle": "2022-06-22T09:29:38.915739Z",
     "shell.execute_reply": "2022-06-22T09:29:38.914955Z"
    },
    "papermill": {
     "duration": 0.027471,
     "end_time": "2022-06-22T09:29:38.917946",
     "exception": false,
     "start_time": "2022-06-22T09:29:38.890475",
     "status": "completed"
    },
    "tags": []
   },
   "outputs": [],
   "source": [
    "trf4 = SelectKBest(score_func=chi2,k=5)"
   ]
  },
  {
   "cell_type": "markdown",
   "id": "34af2090",
   "metadata": {
    "papermill": {
     "duration": 0.018538,
     "end_time": "2022-06-22T09:29:38.956034",
     "exception": false,
     "start_time": "2022-06-22T09:29:38.937496",
     "status": "completed"
    },
    "tags": []
   },
   "source": [
    "### 5. Train the Model"
   ]
  },
  {
   "cell_type": "code",
   "execution_count": 37,
   "id": "18360f5c",
   "metadata": {
    "execution": {
     "iopub.execute_input": "2022-06-22T09:29:38.996296Z",
     "iopub.status.busy": "2022-06-22T09:29:38.995648Z",
     "iopub.status.idle": "2022-06-22T09:29:38.999698Z",
     "shell.execute_reply": "2022-06-22T09:29:38.998795Z"
    },
    "papermill": {
     "duration": 0.026576,
     "end_time": "2022-06-22T09:29:39.002018",
     "exception": false,
     "start_time": "2022-06-22T09:29:38.975442",
     "status": "completed"
    },
    "tags": []
   },
   "outputs": [],
   "source": [
    "trf5 = DecisionTreeClassifier()"
   ]
  },
  {
   "cell_type": "markdown",
   "id": "10dabd0d",
   "metadata": {
    "papermill": {
     "duration": 0.018517,
     "end_time": "2022-06-22T09:29:39.042548",
     "exception": false,
     "start_time": "2022-06-22T09:29:39.024031",
     "status": "completed"
    },
    "tags": []
   },
   "source": [
    "# Create Pipeline\n",
    "\n",
    "We can use Pipeline class **or** make_pipeline.\n",
    "1. Below we have used Pipeline class in which we have to give name.\n",
    "2. And in the make_pipeline we don't have to pass name."
   ]
  },
  {
   "cell_type": "code",
   "execution_count": 38,
   "id": "b2619028",
   "metadata": {
    "execution": {
     "iopub.execute_input": "2022-06-22T09:29:39.082338Z",
     "iopub.status.busy": "2022-06-22T09:29:39.081481Z",
     "iopub.status.idle": "2022-06-22T09:29:39.086343Z",
     "shell.execute_reply": "2022-06-22T09:29:39.085651Z"
    },
    "papermill": {
     "duration": 0.027224,
     "end_time": "2022-06-22T09:29:39.088448",
     "exception": false,
     "start_time": "2022-06-22T09:29:39.061224",
     "status": "completed"
    },
    "tags": []
   },
   "outputs": [],
   "source": [
    "pipe = Pipeline([\n",
    "    ('trf1',trf1),\n",
    "    ('trf2',trf2),\n",
    "    ('trf3',trf3),\n",
    "    ('trf4',trf4),\n",
    "    ('trf5',trf5),\n",
    "\n",
    "])"
   ]
  },
  {
   "cell_type": "code",
   "execution_count": 39,
   "id": "1f63721c",
   "metadata": {
    "execution": {
     "iopub.execute_input": "2022-06-22T09:29:39.128108Z",
     "iopub.status.busy": "2022-06-22T09:29:39.127417Z",
     "iopub.status.idle": "2022-06-22T09:29:39.131906Z",
     "shell.execute_reply": "2022-06-22T09:29:39.130979Z"
    },
    "papermill": {
     "duration": 0.026976,
     "end_time": "2022-06-22T09:29:39.134197",
     "exception": false,
     "start_time": "2022-06-22T09:29:39.107221",
     "status": "completed"
    },
    "tags": []
   },
   "outputs": [],
   "source": [
    "# how to use make_pipeline()\n",
    "pipe = make_pipeline(trf1,trf2,trf3,trf4,trf5)"
   ]
  },
  {
   "cell_type": "code",
   "execution_count": 40,
   "id": "7d67dca1",
   "metadata": {
    "execution": {
     "iopub.execute_input": "2022-06-22T09:29:39.175976Z",
     "iopub.status.busy": "2022-06-22T09:29:39.175309Z",
     "iopub.status.idle": "2022-06-22T09:29:39.179273Z",
     "shell.execute_reply": "2022-06-22T09:29:39.178586Z"
    },
    "papermill": {
     "duration": 0.027721,
     "end_time": "2022-06-22T09:29:39.181743",
     "exception": false,
     "start_time": "2022-06-22T09:29:39.154022",
     "status": "completed"
    },
    "tags": []
   },
   "outputs": [],
   "source": [
    "  # Dsiplay Pipeline\n",
    "from sklearn import set_config\n",
    "set_config(display='diagram')"
   ]
  },
  {
   "cell_type": "code",
   "execution_count": 41,
   "id": "ae91d934",
   "metadata": {
    "execution": {
     "iopub.execute_input": "2022-06-22T09:29:39.222687Z",
     "iopub.status.busy": "2022-06-22T09:29:39.222288Z",
     "iopub.status.idle": "2022-06-22T09:29:39.309788Z",
     "shell.execute_reply": "2022-06-22T09:29:39.308459Z"
    },
    "papermill": {
     "duration": 0.111996,
     "end_time": "2022-06-22T09:29:39.312956",
     "exception": false,
     "start_time": "2022-06-22T09:29:39.200960",
     "status": "completed"
    },
    "tags": []
   },
   "outputs": [
    {
     "data": {
      "text/html": [
       "<style>#sk-54c6392c-ae31-40ef-a2b1-3608780d3e2a {color: black;background-color: white;}#sk-54c6392c-ae31-40ef-a2b1-3608780d3e2a pre{padding: 0;}#sk-54c6392c-ae31-40ef-a2b1-3608780d3e2a div.sk-toggleable {background-color: white;}#sk-54c6392c-ae31-40ef-a2b1-3608780d3e2a label.sk-toggleable__label {cursor: pointer;display: block;width: 100%;margin-bottom: 0;padding: 0.3em;box-sizing: border-box;text-align: center;}#sk-54c6392c-ae31-40ef-a2b1-3608780d3e2a label.sk-toggleable__label-arrow:before {content: \"▸\";float: left;margin-right: 0.25em;color: #696969;}#sk-54c6392c-ae31-40ef-a2b1-3608780d3e2a label.sk-toggleable__label-arrow:hover:before {color: black;}#sk-54c6392c-ae31-40ef-a2b1-3608780d3e2a div.sk-estimator:hover label.sk-toggleable__label-arrow:before {color: black;}#sk-54c6392c-ae31-40ef-a2b1-3608780d3e2a div.sk-toggleable__content {max-height: 0;max-width: 0;overflow: hidden;text-align: left;background-color: #f0f8ff;}#sk-54c6392c-ae31-40ef-a2b1-3608780d3e2a div.sk-toggleable__content pre {margin: 0.2em;color: black;border-radius: 0.25em;background-color: #f0f8ff;}#sk-54c6392c-ae31-40ef-a2b1-3608780d3e2a input.sk-toggleable__control:checked~div.sk-toggleable__content {max-height: 200px;max-width: 100%;overflow: auto;}#sk-54c6392c-ae31-40ef-a2b1-3608780d3e2a input.sk-toggleable__control:checked~label.sk-toggleable__label-arrow:before {content: \"▾\";}#sk-54c6392c-ae31-40ef-a2b1-3608780d3e2a div.sk-estimator input.sk-toggleable__control:checked~label.sk-toggleable__label {background-color: #d4ebff;}#sk-54c6392c-ae31-40ef-a2b1-3608780d3e2a div.sk-label input.sk-toggleable__control:checked~label.sk-toggleable__label {background-color: #d4ebff;}#sk-54c6392c-ae31-40ef-a2b1-3608780d3e2a input.sk-hidden--visually {border: 0;clip: rect(1px 1px 1px 1px);clip: rect(1px, 1px, 1px, 1px);height: 1px;margin: -1px;overflow: hidden;padding: 0;position: absolute;width: 1px;}#sk-54c6392c-ae31-40ef-a2b1-3608780d3e2a div.sk-estimator {font-family: monospace;background-color: #f0f8ff;border: 1px dotted black;border-radius: 0.25em;box-sizing: border-box;margin-bottom: 0.5em;}#sk-54c6392c-ae31-40ef-a2b1-3608780d3e2a div.sk-estimator:hover {background-color: #d4ebff;}#sk-54c6392c-ae31-40ef-a2b1-3608780d3e2a div.sk-parallel-item::after {content: \"\";width: 100%;border-bottom: 1px solid gray;flex-grow: 1;}#sk-54c6392c-ae31-40ef-a2b1-3608780d3e2a div.sk-label:hover label.sk-toggleable__label {background-color: #d4ebff;}#sk-54c6392c-ae31-40ef-a2b1-3608780d3e2a div.sk-serial::before {content: \"\";position: absolute;border-left: 1px solid gray;box-sizing: border-box;top: 2em;bottom: 0;left: 50%;}#sk-54c6392c-ae31-40ef-a2b1-3608780d3e2a div.sk-serial {display: flex;flex-direction: column;align-items: center;background-color: white;padding-right: 0.2em;padding-left: 0.2em;}#sk-54c6392c-ae31-40ef-a2b1-3608780d3e2a div.sk-item {z-index: 1;}#sk-54c6392c-ae31-40ef-a2b1-3608780d3e2a div.sk-parallel {display: flex;align-items: stretch;justify-content: center;background-color: white;}#sk-54c6392c-ae31-40ef-a2b1-3608780d3e2a div.sk-parallel::before {content: \"\";position: absolute;border-left: 1px solid gray;box-sizing: border-box;top: 2em;bottom: 0;left: 50%;}#sk-54c6392c-ae31-40ef-a2b1-3608780d3e2a div.sk-parallel-item {display: flex;flex-direction: column;position: relative;background-color: white;}#sk-54c6392c-ae31-40ef-a2b1-3608780d3e2a div.sk-parallel-item:first-child::after {align-self: flex-end;width: 50%;}#sk-54c6392c-ae31-40ef-a2b1-3608780d3e2a div.sk-parallel-item:last-child::after {align-self: flex-start;width: 50%;}#sk-54c6392c-ae31-40ef-a2b1-3608780d3e2a div.sk-parallel-item:only-child::after {width: 0;}#sk-54c6392c-ae31-40ef-a2b1-3608780d3e2a div.sk-dashed-wrapped {border: 1px dashed gray;margin: 0 0.4em 0.5em 0.4em;box-sizing: border-box;padding-bottom: 0.4em;background-color: white;position: relative;}#sk-54c6392c-ae31-40ef-a2b1-3608780d3e2a div.sk-label label {font-family: monospace;font-weight: bold;background-color: white;display: inline-block;line-height: 1.2em;}#sk-54c6392c-ae31-40ef-a2b1-3608780d3e2a div.sk-label-container {position: relative;z-index: 2;text-align: center;}#sk-54c6392c-ae31-40ef-a2b1-3608780d3e2a div.sk-container {/* jupyter's `normalize.less` sets `[hidden] { display: none; }` but bootstrap.min.css set `[hidden] { display: none !important; }` so we also need the `!important` here to be able to override the default hidden behavior on the sphinx rendered scikit-learn.org. See: https://github.com/scikit-learn/scikit-learn/issues/21755 */display: inline-block !important;position: relative;}#sk-54c6392c-ae31-40ef-a2b1-3608780d3e2a div.sk-text-repr-fallback {display: none;}</style><div id=\"sk-54c6392c-ae31-40ef-a2b1-3608780d3e2a\" class=\"sk-top-container\"><div class=\"sk-text-repr-fallback\"><pre>Pipeline(steps=[(&#x27;columntransformer-1&#x27;,\n",
       "                 ColumnTransformer(remainder=&#x27;passthrough&#x27;,\n",
       "                                   transformers=[(&#x27;impute_age&#x27;, SimpleImputer(),\n",
       "                                                  [2]),\n",
       "                                                 (&#x27;impute_embarked&#x27;,\n",
       "                                                  SimpleImputer(strategy=&#x27;most_frequent&#x27;),\n",
       "                                                  [6])])),\n",
       "                (&#x27;columntransformer-2&#x27;,\n",
       "                 ColumnTransformer(remainder=&#x27;passthrough&#x27;,\n",
       "                                   transformers=[(&#x27;ohe_sex_embarked&#x27;,\n",
       "                                                  OneHotEncoder(handle_unknown=&#x27;ignore&#x27;,\n",
       "                                                                sparse=False),\n",
       "                                                  [1, 6])])),\n",
       "                (&#x27;columntransformer-3&#x27;,\n",
       "                 ColumnTransformer(transformers=[(&#x27;scale&#x27;, MinMaxScaler(),\n",
       "                                                  slice(0, 10, None))])),\n",
       "                (&#x27;selectkbest&#x27;,\n",
       "                 SelectKBest(k=5,\n",
       "                             score_func=&lt;function chi2 at 0x7f5696c3d9e0&gt;)),\n",
       "                (&#x27;decisiontreeclassifier&#x27;, DecisionTreeClassifier())])</pre><b>Please rerun this cell to show the HTML repr or trust the notebook.</b></div><div class=\"sk-container\" hidden><div class=\"sk-item sk-dashed-wrapped\"><div class=\"sk-label-container\"><div class=\"sk-label sk-toggleable\"><input class=\"sk-toggleable__control sk-hidden--visually\" id=\"1f331c6e-19e3-4e6b-bce0-88d438a89e0d\" type=\"checkbox\" ><label for=\"1f331c6e-19e3-4e6b-bce0-88d438a89e0d\" class=\"sk-toggleable__label sk-toggleable__label-arrow\">Pipeline</label><div class=\"sk-toggleable__content\"><pre>Pipeline(steps=[(&#x27;columntransformer-1&#x27;,\n",
       "                 ColumnTransformer(remainder=&#x27;passthrough&#x27;,\n",
       "                                   transformers=[(&#x27;impute_age&#x27;, SimpleImputer(),\n",
       "                                                  [2]),\n",
       "                                                 (&#x27;impute_embarked&#x27;,\n",
       "                                                  SimpleImputer(strategy=&#x27;most_frequent&#x27;),\n",
       "                                                  [6])])),\n",
       "                (&#x27;columntransformer-2&#x27;,\n",
       "                 ColumnTransformer(remainder=&#x27;passthrough&#x27;,\n",
       "                                   transformers=[(&#x27;ohe_sex_embarked&#x27;,\n",
       "                                                  OneHotEncoder(handle_unknown=&#x27;ignore&#x27;,\n",
       "                                                                sparse=False),\n",
       "                                                  [1, 6])])),\n",
       "                (&#x27;columntransformer-3&#x27;,\n",
       "                 ColumnTransformer(transformers=[(&#x27;scale&#x27;, MinMaxScaler(),\n",
       "                                                  slice(0, 10, None))])),\n",
       "                (&#x27;selectkbest&#x27;,\n",
       "                 SelectKBest(k=5,\n",
       "                             score_func=&lt;function chi2 at 0x7f5696c3d9e0&gt;)),\n",
       "                (&#x27;decisiontreeclassifier&#x27;, DecisionTreeClassifier())])</pre></div></div></div><div class=\"sk-serial\"><div class=\"sk-item sk-dashed-wrapped\"><div class=\"sk-label-container\"><div class=\"sk-label sk-toggleable\"><input class=\"sk-toggleable__control sk-hidden--visually\" id=\"1722589b-09b2-4e01-a4fd-c646146697b9\" type=\"checkbox\" ><label for=\"1722589b-09b2-4e01-a4fd-c646146697b9\" class=\"sk-toggleable__label sk-toggleable__label-arrow\">columntransformer-1: ColumnTransformer</label><div class=\"sk-toggleable__content\"><pre>ColumnTransformer(remainder=&#x27;passthrough&#x27;,\n",
       "                  transformers=[(&#x27;impute_age&#x27;, SimpleImputer(), [2]),\n",
       "                                (&#x27;impute_embarked&#x27;,\n",
       "                                 SimpleImputer(strategy=&#x27;most_frequent&#x27;),\n",
       "                                 [6])])</pre></div></div></div><div class=\"sk-parallel\"><div class=\"sk-parallel-item\"><div class=\"sk-item\"><div class=\"sk-label-container\"><div class=\"sk-label sk-toggleable\"><input class=\"sk-toggleable__control sk-hidden--visually\" id=\"3056d295-5e5d-45f7-9cf9-f92b1ff2c49b\" type=\"checkbox\" ><label for=\"3056d295-5e5d-45f7-9cf9-f92b1ff2c49b\" class=\"sk-toggleable__label sk-toggleable__label-arrow\">impute_age</label><div class=\"sk-toggleable__content\"><pre>[2]</pre></div></div></div><div class=\"sk-serial\"><div class=\"sk-item\"><div class=\"sk-estimator sk-toggleable\"><input class=\"sk-toggleable__control sk-hidden--visually\" id=\"d43cf9ff-aad4-49b9-affe-4cacefeaeb7b\" type=\"checkbox\" ><label for=\"d43cf9ff-aad4-49b9-affe-4cacefeaeb7b\" class=\"sk-toggleable__label sk-toggleable__label-arrow\">SimpleImputer</label><div class=\"sk-toggleable__content\"><pre>SimpleImputer()</pre></div></div></div></div></div></div><div class=\"sk-parallel-item\"><div class=\"sk-item\"><div class=\"sk-label-container\"><div class=\"sk-label sk-toggleable\"><input class=\"sk-toggleable__control sk-hidden--visually\" id=\"5d6b6fca-704b-45f4-a8ef-84862cf6cead\" type=\"checkbox\" ><label for=\"5d6b6fca-704b-45f4-a8ef-84862cf6cead\" class=\"sk-toggleable__label sk-toggleable__label-arrow\">impute_embarked</label><div class=\"sk-toggleable__content\"><pre>[6]</pre></div></div></div><div class=\"sk-serial\"><div class=\"sk-item\"><div class=\"sk-estimator sk-toggleable\"><input class=\"sk-toggleable__control sk-hidden--visually\" id=\"b508f666-555b-41bc-917f-32b6eafff0ed\" type=\"checkbox\" ><label for=\"b508f666-555b-41bc-917f-32b6eafff0ed\" class=\"sk-toggleable__label sk-toggleable__label-arrow\">SimpleImputer</label><div class=\"sk-toggleable__content\"><pre>SimpleImputer(strategy=&#x27;most_frequent&#x27;)</pre></div></div></div></div></div></div><div class=\"sk-parallel-item\"><div class=\"sk-item\"><div class=\"sk-label-container\"><div class=\"sk-label sk-toggleable\"><input class=\"sk-toggleable__control sk-hidden--visually\" id=\"5999765d-8017-4fc3-89e1-1923fea81b11\" type=\"checkbox\" ><label for=\"5999765d-8017-4fc3-89e1-1923fea81b11\" class=\"sk-toggleable__label sk-toggleable__label-arrow\">remainder</label><div class=\"sk-toggleable__content\"><pre>[&#x27;Pclass&#x27;, &#x27;Sex&#x27;, &#x27;SibSp&#x27;, &#x27;Parch&#x27;, &#x27;Fare&#x27;]</pre></div></div></div><div class=\"sk-serial\"><div class=\"sk-item\"><div class=\"sk-estimator sk-toggleable\"><input class=\"sk-toggleable__control sk-hidden--visually\" id=\"c3fb15b7-6fa8-49ff-b944-f3b8f60b9525\" type=\"checkbox\" ><label for=\"c3fb15b7-6fa8-49ff-b944-f3b8f60b9525\" class=\"sk-toggleable__label sk-toggleable__label-arrow\">passthrough</label><div class=\"sk-toggleable__content\"><pre>passthrough</pre></div></div></div></div></div></div></div></div><div class=\"sk-item sk-dashed-wrapped\"><div class=\"sk-label-container\"><div class=\"sk-label sk-toggleable\"><input class=\"sk-toggleable__control sk-hidden--visually\" id=\"3569c069-b794-4142-82e6-667126bd4b13\" type=\"checkbox\" ><label for=\"3569c069-b794-4142-82e6-667126bd4b13\" class=\"sk-toggleable__label sk-toggleable__label-arrow\">columntransformer-2: ColumnTransformer</label><div class=\"sk-toggleable__content\"><pre>ColumnTransformer(remainder=&#x27;passthrough&#x27;,\n",
       "                  transformers=[(&#x27;ohe_sex_embarked&#x27;,\n",
       "                                 OneHotEncoder(handle_unknown=&#x27;ignore&#x27;,\n",
       "                                               sparse=False),\n",
       "                                 [1, 6])])</pre></div></div></div><div class=\"sk-parallel\"><div class=\"sk-parallel-item\"><div class=\"sk-item\"><div class=\"sk-label-container\"><div class=\"sk-label sk-toggleable\"><input class=\"sk-toggleable__control sk-hidden--visually\" id=\"767e604b-3033-4c6b-b9ca-5408b0e1a9bf\" type=\"checkbox\" ><label for=\"767e604b-3033-4c6b-b9ca-5408b0e1a9bf\" class=\"sk-toggleable__label sk-toggleable__label-arrow\">ohe_sex_embarked</label><div class=\"sk-toggleable__content\"><pre>[1, 6]</pre></div></div></div><div class=\"sk-serial\"><div class=\"sk-item\"><div class=\"sk-estimator sk-toggleable\"><input class=\"sk-toggleable__control sk-hidden--visually\" id=\"c985ebd9-35d7-4c4c-a80f-9f9908c0e5c0\" type=\"checkbox\" ><label for=\"c985ebd9-35d7-4c4c-a80f-9f9908c0e5c0\" class=\"sk-toggleable__label sk-toggleable__label-arrow\">OneHotEncoder</label><div class=\"sk-toggleable__content\"><pre>OneHotEncoder(handle_unknown=&#x27;ignore&#x27;, sparse=False)</pre></div></div></div></div></div></div><div class=\"sk-parallel-item\"><div class=\"sk-item\"><div class=\"sk-label-container\"><div class=\"sk-label sk-toggleable\"><input class=\"sk-toggleable__control sk-hidden--visually\" id=\"c953320c-003a-44bf-8279-092d1a825da7\" type=\"checkbox\" ><label for=\"c953320c-003a-44bf-8279-092d1a825da7\" class=\"sk-toggleable__label sk-toggleable__label-arrow\">remainder</label><div class=\"sk-toggleable__content\"><pre>[0, 2, 3, 4, 5]</pre></div></div></div><div class=\"sk-serial\"><div class=\"sk-item\"><div class=\"sk-estimator sk-toggleable\"><input class=\"sk-toggleable__control sk-hidden--visually\" id=\"14d823d6-d3ef-4e03-8f90-27c6452d4cc1\" type=\"checkbox\" ><label for=\"14d823d6-d3ef-4e03-8f90-27c6452d4cc1\" class=\"sk-toggleable__label sk-toggleable__label-arrow\">passthrough</label><div class=\"sk-toggleable__content\"><pre>passthrough</pre></div></div></div></div></div></div></div></div><div class=\"sk-item sk-dashed-wrapped\"><div class=\"sk-label-container\"><div class=\"sk-label sk-toggleable\"><input class=\"sk-toggleable__control sk-hidden--visually\" id=\"ede341bc-484c-4c74-ae07-57e912c66db4\" type=\"checkbox\" ><label for=\"ede341bc-484c-4c74-ae07-57e912c66db4\" class=\"sk-toggleable__label sk-toggleable__label-arrow\">columntransformer-3: ColumnTransformer</label><div class=\"sk-toggleable__content\"><pre>ColumnTransformer(transformers=[(&#x27;scale&#x27;, MinMaxScaler(), slice(0, 10, None))])</pre></div></div></div><div class=\"sk-parallel\"><div class=\"sk-parallel-item\"><div class=\"sk-item\"><div class=\"sk-label-container\"><div class=\"sk-label sk-toggleable\"><input class=\"sk-toggleable__control sk-hidden--visually\" id=\"12154824-a794-46b8-9e13-239ea7f13bdc\" type=\"checkbox\" ><label for=\"12154824-a794-46b8-9e13-239ea7f13bdc\" class=\"sk-toggleable__label sk-toggleable__label-arrow\">scale</label><div class=\"sk-toggleable__content\"><pre>slice(0, 10, None)</pre></div></div></div><div class=\"sk-serial\"><div class=\"sk-item\"><div class=\"sk-estimator sk-toggleable\"><input class=\"sk-toggleable__control sk-hidden--visually\" id=\"e4283fb3-023b-473f-bd21-12691195ddc6\" type=\"checkbox\" ><label for=\"e4283fb3-023b-473f-bd21-12691195ddc6\" class=\"sk-toggleable__label sk-toggleable__label-arrow\">MinMaxScaler</label><div class=\"sk-toggleable__content\"><pre>MinMaxScaler()</pre></div></div></div></div></div></div></div></div><div class=\"sk-item\"><div class=\"sk-estimator sk-toggleable\"><input class=\"sk-toggleable__control sk-hidden--visually\" id=\"fc9c54ca-3f01-491b-82d4-e2ebd55ad667\" type=\"checkbox\" ><label for=\"fc9c54ca-3f01-491b-82d4-e2ebd55ad667\" class=\"sk-toggleable__label sk-toggleable__label-arrow\">SelectKBest</label><div class=\"sk-toggleable__content\"><pre>SelectKBest(k=5, score_func=&lt;function chi2 at 0x7f5696c3d9e0&gt;)</pre></div></div></div><div class=\"sk-item\"><div class=\"sk-estimator sk-toggleable\"><input class=\"sk-toggleable__control sk-hidden--visually\" id=\"f57bc570-a0bb-40e0-9bb4-6f4b6f907c62\" type=\"checkbox\" ><label for=\"f57bc570-a0bb-40e0-9bb4-6f4b6f907c62\" class=\"sk-toggleable__label sk-toggleable__label-arrow\">DecisionTreeClassifier</label><div class=\"sk-toggleable__content\"><pre>DecisionTreeClassifier()</pre></div></div></div></div></div></div></div>"
      ],
      "text/plain": [
       "Pipeline(steps=[('columntransformer-1',\n",
       "                 ColumnTransformer(remainder='passthrough',\n",
       "                                   transformers=[('impute_age', SimpleImputer(),\n",
       "                                                  [2]),\n",
       "                                                 ('impute_embarked',\n",
       "                                                  SimpleImputer(strategy='most_frequent'),\n",
       "                                                  [6])])),\n",
       "                ('columntransformer-2',\n",
       "                 ColumnTransformer(remainder='passthrough',\n",
       "                                   transformers=[('ohe_sex_embarked',\n",
       "                                                  OneHotEncoder(handle_unknown='ignore',\n",
       "                                                                sparse=False),\n",
       "                                                  [1, 6])])),\n",
       "                ('columntransformer-3',\n",
       "                 ColumnTransformer(transformers=[('scale', MinMaxScaler(),\n",
       "                                                  slice(0, 10, None))])),\n",
       "                ('selectkbest',\n",
       "                 SelectKBest(k=5,\n",
       "                             score_func=<function chi2 at 0x7f5696c3d9e0>)),\n",
       "                ('decisiontreeclassifier', DecisionTreeClassifier())])"
      ]
     },
     "execution_count": 41,
     "metadata": {},
     "output_type": "execute_result"
    }
   ],
   "source": [
    "# train\n",
    "pipe.fit(X_train,y_train)"
   ]
  },
  {
   "cell_type": "markdown",
   "id": "647ff46a",
   "metadata": {
    "papermill": {
     "duration": 0.019349,
     "end_time": "2022-06-22T09:29:39.353294",
     "exception": false,
     "start_time": "2022-06-22T09:29:39.333945",
     "status": "completed"
    },
    "tags": []
   },
   "source": [
    "# Explore The Pipeline"
   ]
  },
  {
   "cell_type": "code",
   "execution_count": 42,
   "id": "018d4656",
   "metadata": {
    "execution": {
     "iopub.execute_input": "2022-06-22T09:29:39.395356Z",
     "iopub.status.busy": "2022-06-22T09:29:39.394976Z",
     "iopub.status.idle": "2022-06-22T09:29:39.414531Z",
     "shell.execute_reply": "2022-06-22T09:29:39.413338Z"
    },
    "papermill": {
     "duration": 0.043789,
     "end_time": "2022-06-22T09:29:39.417548",
     "exception": false,
     "start_time": "2022-06-22T09:29:39.373759",
     "status": "completed"
    },
    "tags": []
   },
   "outputs": [],
   "source": [
    "# predict\n",
    "y_pred = pipe.predict(X_test)"
   ]
  },
  {
   "cell_type": "code",
   "execution_count": 43,
   "id": "e68772eb",
   "metadata": {
    "execution": {
     "iopub.execute_input": "2022-06-22T09:29:39.460077Z",
     "iopub.status.busy": "2022-06-22T09:29:39.459714Z",
     "iopub.status.idle": "2022-06-22T09:29:39.467667Z",
     "shell.execute_reply": "2022-06-22T09:29:39.466410Z"
    },
    "papermill": {
     "duration": 0.03195,
     "end_time": "2022-06-22T09:29:39.470155",
     "exception": false,
     "start_time": "2022-06-22T09:29:39.438205",
     "status": "completed"
    },
    "tags": []
   },
   "outputs": [
    {
     "data": {
      "text/plain": [
       "array([1, 0, 0, 0, 1, 0, 0, 0, 0, 0, 0, 0, 0, 1, 0, 0, 0, 0, 0, 0, 0, 0,\n",
       "       0, 0, 0, 0, 1, 0, 0, 0, 0, 0, 1, 0, 0, 1, 0, 0, 1, 0, 0, 0, 0, 0,\n",
       "       1, 0, 0, 0, 0, 1, 1, 0, 0, 0, 0, 0, 0, 1, 0, 0, 0, 0, 0, 0, 0, 0,\n",
       "       0, 0, 1, 1, 0, 1, 1, 1, 0, 0, 0, 1, 0, 0, 0, 0, 1, 0, 1, 1, 1, 1,\n",
       "       0, 0, 0, 0, 0, 0, 0, 0, 0, 0, 0, 0, 0, 0, 1, 0, 0, 0, 0, 0, 0, 1,\n",
       "       0, 0, 1, 0, 0, 0, 1, 1, 0, 0, 0, 1, 0, 0, 0, 1, 0, 1, 1, 0, 0, 1,\n",
       "       0, 0, 1, 1, 1, 0, 0, 0, 0, 0, 0, 0, 0, 0, 0, 0, 1, 0, 1, 0, 0, 0,\n",
       "       0, 0, 0, 0, 0, 0, 1, 0, 0, 1, 0, 1, 0, 0, 0, 0, 1, 0, 0, 1, 0, 1,\n",
       "       0, 0, 0])"
      ]
     },
     "execution_count": 43,
     "metadata": {},
     "output_type": "execute_result"
    }
   ],
   "source": [
    "y_pred"
   ]
  },
  {
   "cell_type": "code",
   "execution_count": 44,
   "id": "fd15dd98",
   "metadata": {
    "execution": {
     "iopub.execute_input": "2022-06-22T09:29:39.511818Z",
     "iopub.status.busy": "2022-06-22T09:29:39.511421Z",
     "iopub.status.idle": "2022-06-22T09:29:39.518155Z",
     "shell.execute_reply": "2022-06-22T09:29:39.517319Z"
    },
    "papermill": {
     "duration": 0.030349,
     "end_time": "2022-06-22T09:29:39.520384",
     "exception": false,
     "start_time": "2022-06-22T09:29:39.490035",
     "status": "completed"
    },
    "tags": []
   },
   "outputs": [
    {
     "data": {
      "text/plain": [
       "0.6256983240223464"
      ]
     },
     "execution_count": 44,
     "metadata": {},
     "output_type": "execute_result"
    }
   ],
   "source": [
    "from sklearn.metrics import accuracy_score\n",
    "accuracy_score(y_test,y_pred)"
   ]
  },
  {
   "cell_type": "markdown",
   "id": "8c9cb2ec",
   "metadata": {
    "papermill": {
     "duration": 0.019625,
     "end_time": "2022-06-22T09:29:39.559682",
     "exception": false,
     "start_time": "2022-06-22T09:29:39.540057",
     "status": "completed"
    },
    "tags": []
   },
   "source": [
    "Here we have got accuracy less because we removed some column by feature Selection process."
   ]
  },
  {
   "cell_type": "markdown",
   "id": "ad10c569",
   "metadata": {
    "papermill": {
     "duration": 0.020891,
     "end_time": "2022-06-22T09:29:39.600666",
     "exception": false,
     "start_time": "2022-06-22T09:29:39.579775",
     "status": "completed"
    },
    "tags": []
   },
   "source": [
    "# Exporting the Pipeline"
   ]
  },
  {
   "cell_type": "code",
   "execution_count": 45,
   "id": "ea7cefb1",
   "metadata": {
    "execution": {
     "iopub.execute_input": "2022-06-22T09:29:39.642148Z",
     "iopub.status.busy": "2022-06-22T09:29:39.641795Z",
     "iopub.status.idle": "2022-06-22T09:29:39.646957Z",
     "shell.execute_reply": "2022-06-22T09:29:39.646214Z"
    },
    "papermill": {
     "duration": 0.028734,
     "end_time": "2022-06-22T09:29:39.649257",
     "exception": false,
     "start_time": "2022-06-22T09:29:39.620523",
     "status": "completed"
    },
    "tags": []
   },
   "outputs": [],
   "source": [
    "import pickle\n",
    "pickle.dump(pipe,open('pipe.pkl','wb'))"
   ]
  },
  {
   "cell_type": "code",
   "execution_count": 46,
   "id": "082364b8",
   "metadata": {
    "execution": {
     "iopub.execute_input": "2022-06-22T09:29:39.690954Z",
     "iopub.status.busy": "2022-06-22T09:29:39.690524Z",
     "iopub.status.idle": "2022-06-22T09:29:39.696738Z",
     "shell.execute_reply": "2022-06-22T09:29:39.695743Z"
    },
    "papermill": {
     "duration": 0.02964,
     "end_time": "2022-06-22T09:29:39.698979",
     "exception": false,
     "start_time": "2022-06-22T09:29:39.669339",
     "status": "completed"
    },
    "tags": []
   },
   "outputs": [],
   "source": [
    "pipe = pickle.load(open('pipe.pkl','rb'))"
   ]
  },
  {
   "cell_type": "code",
   "execution_count": 47,
   "id": "5377f375",
   "metadata": {
    "execution": {
     "iopub.execute_input": "2022-06-22T09:29:39.741118Z",
     "iopub.status.busy": "2022-06-22T09:29:39.740756Z",
     "iopub.status.idle": "2022-06-22T09:29:39.746900Z",
     "shell.execute_reply": "2022-06-22T09:29:39.745410Z"
    },
    "papermill": {
     "duration": 0.030274,
     "end_time": "2022-06-22T09:29:39.749630",
     "exception": false,
     "start_time": "2022-06-22T09:29:39.719356",
     "status": "completed"
    },
    "tags": []
   },
   "outputs": [],
   "source": [
    "# Asdsume that user give input\n",
    "test_input1 = np.array([2,'male',31.0,0,0,10.5,'S'],dtype=object).reshape(1,7)"
   ]
  },
  {
   "cell_type": "code",
   "execution_count": 48,
   "id": "c23623bb",
   "metadata": {
    "execution": {
     "iopub.execute_input": "2022-06-22T09:29:39.792263Z",
     "iopub.status.busy": "2022-06-22T09:29:39.791897Z",
     "iopub.status.idle": "2022-06-22T09:29:39.805139Z",
     "shell.execute_reply": "2022-06-22T09:29:39.804349Z"
    },
    "papermill": {
     "duration": 0.040034,
     "end_time": "2022-06-22T09:29:39.809700",
     "exception": false,
     "start_time": "2022-06-22T09:29:39.769666",
     "status": "completed"
    },
    "tags": []
   },
   "outputs": [
    {
     "name": "stderr",
     "output_type": "stream",
     "text": [
      "/opt/conda/lib/python3.7/site-packages/sklearn/base.py:451: UserWarning: X does not have valid feature names, but SimpleImputer was fitted with feature names\n",
      "  \"X does not have valid feature names, but\"\n",
      "/opt/conda/lib/python3.7/site-packages/sklearn/base.py:451: UserWarning: X does not have valid feature names, but SimpleImputer was fitted with feature names\n",
      "  \"X does not have valid feature names, but\"\n"
     ]
    },
    {
     "data": {
      "text/plain": [
       "array([0])"
      ]
     },
     "execution_count": 48,
     "metadata": {},
     "output_type": "execute_result"
    }
   ],
   "source": [
    "pipe.predict(test_input1)"
   ]
  },
  {
   "cell_type": "markdown",
   "id": "13bac2c9",
   "metadata": {
    "papermill": {
     "duration": 0.02033,
     "end_time": "2022-06-22T09:29:39.851018",
     "exception": false,
     "start_time": "2022-06-22T09:29:39.830688",
     "status": "completed"
    },
    "tags": []
   },
   "source": [
    "So,here we don't have to do any preprocessing on the data we get from the user. we simply have to give data and pipeline does all behind the scenes for you."
   ]
  }
 ],
 "metadata": {
  "kernelspec": {
   "display_name": "Python 3",
   "language": "python",
   "name": "python3"
  },
  "language_info": {
   "codemirror_mode": {
    "name": "ipython",
    "version": 3
   },
   "file_extension": ".py",
   "mimetype": "text/x-python",
   "name": "python",
   "nbconvert_exporter": "python",
   "pygments_lexer": "ipython3",
   "version": "3.7.12"
  },
  "papermill": {
   "default_parameters": {},
   "duration": 18.828655,
   "end_time": "2022-06-22T09:29:43.176854",
   "environment_variables": {},
   "exception": null,
   "input_path": "__notebook__.ipynb",
   "output_path": "__notebook__.ipynb",
   "parameters": {},
   "start_time": "2022-06-22T09:29:24.348199",
   "version": "2.3.4"
  }
 },
 "nbformat": 4,
 "nbformat_minor": 5
}
